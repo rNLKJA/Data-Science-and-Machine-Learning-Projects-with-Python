{
 "cells": [
  {
   "cell_type": "markdown",
   "id": "e74a4dd9-2043-40e1-b3d7-75707cd1d16c",
   "metadata": {},
   "source": [
    "# How to Give Inputs to a Machine Learning Model\n",
    "\n",
    "<https://thecleverprogrammer.com/2021/11/29/how-to-give-inputs-to-a-machine-learning-model/>\n",
    "\n",
    "One of the mistakes data science newbies make while working on a machine learning project is that they train a machine learning model, check its accuracy score, and then complete the project. They do not test the performance of the model by giving inputs to the model based on the features they used to train it.\n",
    "\n",
    "## How to give inputs to a machine learning model\n",
    "\n",
    "Every data science professional should know about giving inputs to a machine learning model. It helps in calculating the predicted value based on the input values. Most data science beginners skip this step while creating a machine learning project.\n",
    "\n",
    "To give inputs to a machine learning model, you have to create a NumPy array, where you have to input the values of the features you used to train your machine learning model. Then we can use that array in the model.predict() method, and at the end, it will give the predicted value as an output based on the inputs.\n",
    "\n",
    "Now let’s learn about giving inputs to a machine learning model with an example using Python. Here I will first train a classification model on the famous Iris dataset, and then, in the end, I will input the values of the features (sepal_length, sepal_width, petal_length, petal_width) to the model to see the predicted output based on the inputs:"
   ]
  },
  {
   "cell_type": "code",
   "execution_count": 1,
   "id": "7752296f-8412-40ae-b202-b9a70a7851df",
   "metadata": {
    "execution": {
     "iopub.execute_input": "2022-11-28T03:45:03.717530Z",
     "iopub.status.busy": "2022-11-28T03:45:03.717530Z",
     "iopub.status.idle": "2022-11-28T03:45:04.149573Z",
     "shell.execute_reply": "2022-11-28T03:45:04.149573Z",
     "shell.execute_reply.started": "2022-11-28T03:45:03.717530Z"
    }
   },
   "outputs": [],
   "source": [
    "import numpy as np\n",
    "import pandas as pd\n",
    "from sklearn.model_selection import train_test_split\n",
    "from sklearn.neighbors import KNeighborsClassifier"
   ]
  },
  {
   "cell_type": "code",
   "execution_count": 2,
   "id": "5d861173-91eb-4d60-8bd6-8cd3a3b1e6db",
   "metadata": {
    "execution": {
     "iopub.execute_input": "2022-11-28T03:45:42.006053Z",
     "iopub.status.busy": "2022-11-28T03:45:42.006053Z",
     "iopub.status.idle": "2022-11-28T03:45:42.419878Z",
     "shell.execute_reply": "2022-11-28T03:45:42.419878Z",
     "shell.execute_reply.started": "2022-11-28T03:45:42.006053Z"
    }
   },
   "outputs": [
    {
     "data": {
      "text/html": [
       "<div>\n",
       "<style scoped>\n",
       "    .dataframe tbody tr th:only-of-type {\n",
       "        vertical-align: middle;\n",
       "    }\n",
       "\n",
       "    .dataframe tbody tr th {\n",
       "        vertical-align: top;\n",
       "    }\n",
       "\n",
       "    .dataframe thead th {\n",
       "        text-align: right;\n",
       "    }\n",
       "</style>\n",
       "<table border=\"1\" class=\"dataframe\">\n",
       "  <thead>\n",
       "    <tr style=\"text-align: right;\">\n",
       "      <th></th>\n",
       "      <th>sepal_length</th>\n",
       "      <th>sepal_width</th>\n",
       "      <th>petal_length</th>\n",
       "      <th>petal_width</th>\n",
       "      <th>species</th>\n",
       "    </tr>\n",
       "  </thead>\n",
       "  <tbody>\n",
       "    <tr>\n",
       "      <th>145</th>\n",
       "      <td>6.7</td>\n",
       "      <td>3.0</td>\n",
       "      <td>5.2</td>\n",
       "      <td>2.3</td>\n",
       "      <td>Iris-virginica</td>\n",
       "    </tr>\n",
       "    <tr>\n",
       "      <th>146</th>\n",
       "      <td>6.3</td>\n",
       "      <td>2.5</td>\n",
       "      <td>5.0</td>\n",
       "      <td>1.9</td>\n",
       "      <td>Iris-virginica</td>\n",
       "    </tr>\n",
       "    <tr>\n",
       "      <th>147</th>\n",
       "      <td>6.5</td>\n",
       "      <td>3.0</td>\n",
       "      <td>5.2</td>\n",
       "      <td>2.0</td>\n",
       "      <td>Iris-virginica</td>\n",
       "    </tr>\n",
       "    <tr>\n",
       "      <th>148</th>\n",
       "      <td>6.2</td>\n",
       "      <td>3.4</td>\n",
       "      <td>5.4</td>\n",
       "      <td>2.3</td>\n",
       "      <td>Iris-virginica</td>\n",
       "    </tr>\n",
       "    <tr>\n",
       "      <th>149</th>\n",
       "      <td>5.9</td>\n",
       "      <td>3.0</td>\n",
       "      <td>5.1</td>\n",
       "      <td>1.8</td>\n",
       "      <td>Iris-virginica</td>\n",
       "    </tr>\n",
       "  </tbody>\n",
       "</table>\n",
       "</div>"
      ],
      "text/plain": [
       "     sepal_length  sepal_width  petal_length  petal_width         species\n",
       "145           6.7          3.0           5.2          2.3  Iris-virginica\n",
       "146           6.3          2.5           5.0          1.9  Iris-virginica\n",
       "147           6.5          3.0           5.2          2.0  Iris-virginica\n",
       "148           6.2          3.4           5.4          2.3  Iris-virginica\n",
       "149           5.9          3.0           5.1          1.8  Iris-virginica"
      ]
     },
     "execution_count": 2,
     "metadata": {},
     "output_type": "execute_result"
    }
   ],
   "source": [
    "iris_df = pd.read_csv(\"https://raw.githubusercontent.com/amankharwal/Website-data/master/IRIS.csv\")\n",
    "iris_df.tail()"
   ]
  },
  {
   "cell_type": "code",
   "execution_count": 3,
   "id": "389b3628-bc9b-4dc2-91d4-4ad553b730a2",
   "metadata": {
    "execution": {
     "iopub.execute_input": "2022-11-28T03:46:19.038433Z",
     "iopub.status.busy": "2022-11-28T03:46:19.038433Z",
     "iopub.status.idle": "2022-11-28T03:46:19.044433Z",
     "shell.execute_reply": "2022-11-28T03:46:19.044433Z",
     "shell.execute_reply.started": "2022-11-28T03:46:19.038433Z"
    }
   },
   "outputs": [],
   "source": [
    "X = iris_df.drop(\"species\", axis=1)\n",
    "y = iris_df.species"
   ]
  },
  {
   "cell_type": "code",
   "execution_count": 4,
   "id": "82eb43c0-6c7e-4936-bbb9-2f67d640bbb9",
   "metadata": {
    "execution": {
     "iopub.execute_input": "2022-11-28T03:46:39.131537Z",
     "iopub.status.busy": "2022-11-28T03:46:39.131537Z",
     "iopub.status.idle": "2022-11-28T03:46:39.151532Z",
     "shell.execute_reply": "2022-11-28T03:46:39.150533Z",
     "shell.execute_reply.started": "2022-11-28T03:46:39.131537Z"
    }
   },
   "outputs": [],
   "source": [
    "X_train, X_test, y_train, y_test = train_test_split(X, y, \n",
    "                                                    test_size=0.2,\n",
    "                                                    random_state=0)"
   ]
  },
  {
   "cell_type": "code",
   "execution_count": 5,
   "id": "ebec8483-4f07-45e1-85c0-dcf07cc3590a",
   "metadata": {
    "execution": {
     "iopub.execute_input": "2022-11-28T03:47:06.909525Z",
     "iopub.status.busy": "2022-11-28T03:47:06.909525Z",
     "iopub.status.idle": "2022-11-28T03:47:06.920521Z",
     "shell.execute_reply": "2022-11-28T03:47:06.920521Z",
     "shell.execute_reply.started": "2022-11-28T03:47:06.909525Z"
    }
   },
   "outputs": [
    {
     "data": {
      "text/html": [
       "<style>#sk-container-id-1 {color: black;background-color: white;}#sk-container-id-1 pre{padding: 0;}#sk-container-id-1 div.sk-toggleable {background-color: white;}#sk-container-id-1 label.sk-toggleable__label {cursor: pointer;display: block;width: 100%;margin-bottom: 0;padding: 0.3em;box-sizing: border-box;text-align: center;}#sk-container-id-1 label.sk-toggleable__label-arrow:before {content: \"▸\";float: left;margin-right: 0.25em;color: #696969;}#sk-container-id-1 label.sk-toggleable__label-arrow:hover:before {color: black;}#sk-container-id-1 div.sk-estimator:hover label.sk-toggleable__label-arrow:before {color: black;}#sk-container-id-1 div.sk-toggleable__content {max-height: 0;max-width: 0;overflow: hidden;text-align: left;background-color: #f0f8ff;}#sk-container-id-1 div.sk-toggleable__content pre {margin: 0.2em;color: black;border-radius: 0.25em;background-color: #f0f8ff;}#sk-container-id-1 input.sk-toggleable__control:checked~div.sk-toggleable__content {max-height: 200px;max-width: 100%;overflow: auto;}#sk-container-id-1 input.sk-toggleable__control:checked~label.sk-toggleable__label-arrow:before {content: \"▾\";}#sk-container-id-1 div.sk-estimator input.sk-toggleable__control:checked~label.sk-toggleable__label {background-color: #d4ebff;}#sk-container-id-1 div.sk-label input.sk-toggleable__control:checked~label.sk-toggleable__label {background-color: #d4ebff;}#sk-container-id-1 input.sk-hidden--visually {border: 0;clip: rect(1px 1px 1px 1px);clip: rect(1px, 1px, 1px, 1px);height: 1px;margin: -1px;overflow: hidden;padding: 0;position: absolute;width: 1px;}#sk-container-id-1 div.sk-estimator {font-family: monospace;background-color: #f0f8ff;border: 1px dotted black;border-radius: 0.25em;box-sizing: border-box;margin-bottom: 0.5em;}#sk-container-id-1 div.sk-estimator:hover {background-color: #d4ebff;}#sk-container-id-1 div.sk-parallel-item::after {content: \"\";width: 100%;border-bottom: 1px solid gray;flex-grow: 1;}#sk-container-id-1 div.sk-label:hover label.sk-toggleable__label {background-color: #d4ebff;}#sk-container-id-1 div.sk-serial::before {content: \"\";position: absolute;border-left: 1px solid gray;box-sizing: border-box;top: 0;bottom: 0;left: 50%;z-index: 0;}#sk-container-id-1 div.sk-serial {display: flex;flex-direction: column;align-items: center;background-color: white;padding-right: 0.2em;padding-left: 0.2em;position: relative;}#sk-container-id-1 div.sk-item {position: relative;z-index: 1;}#sk-container-id-1 div.sk-parallel {display: flex;align-items: stretch;justify-content: center;background-color: white;position: relative;}#sk-container-id-1 div.sk-item::before, #sk-container-id-1 div.sk-parallel-item::before {content: \"\";position: absolute;border-left: 1px solid gray;box-sizing: border-box;top: 0;bottom: 0;left: 50%;z-index: -1;}#sk-container-id-1 div.sk-parallel-item {display: flex;flex-direction: column;z-index: 1;position: relative;background-color: white;}#sk-container-id-1 div.sk-parallel-item:first-child::after {align-self: flex-end;width: 50%;}#sk-container-id-1 div.sk-parallel-item:last-child::after {align-self: flex-start;width: 50%;}#sk-container-id-1 div.sk-parallel-item:only-child::after {width: 0;}#sk-container-id-1 div.sk-dashed-wrapped {border: 1px dashed gray;margin: 0 0.4em 0.5em 0.4em;box-sizing: border-box;padding-bottom: 0.4em;background-color: white;}#sk-container-id-1 div.sk-label label {font-family: monospace;font-weight: bold;display: inline-block;line-height: 1.2em;}#sk-container-id-1 div.sk-label-container {text-align: center;}#sk-container-id-1 div.sk-container {/* jupyter's `normalize.less` sets `[hidden] { display: none; }` but bootstrap.min.css set `[hidden] { display: none !important; }` so we also need the `!important` here to be able to override the default hidden behavior on the sphinx rendered scikit-learn.org. See: https://github.com/scikit-learn/scikit-learn/issues/21755 */display: inline-block !important;position: relative;}#sk-container-id-1 div.sk-text-repr-fallback {display: none;}</style><div id=\"sk-container-id-1\" class=\"sk-top-container\"><div class=\"sk-text-repr-fallback\"><pre>KNeighborsClassifier(n_jobs=1, n_neighbors=1)</pre><b>In a Jupyter environment, please rerun this cell to show the HTML representation or trust the notebook. <br />On GitHub, the HTML representation is unable to render, please try loading this page with nbviewer.org.</b></div><div class=\"sk-container\" hidden><div class=\"sk-item\"><div class=\"sk-estimator sk-toggleable\"><input class=\"sk-toggleable__control sk-hidden--visually\" id=\"sk-estimator-id-1\" type=\"checkbox\" checked><label for=\"sk-estimator-id-1\" class=\"sk-toggleable__label sk-toggleable__label-arrow\">KNeighborsClassifier</label><div class=\"sk-toggleable__content\"><pre>KNeighborsClassifier(n_jobs=1, n_neighbors=1)</pre></div></div></div></div></div>"
      ],
      "text/plain": [
       "KNeighborsClassifier(n_jobs=1, n_neighbors=1)"
      ]
     },
     "execution_count": 5,
     "metadata": {},
     "output_type": "execute_result"
    }
   ],
   "source": [
    "knn = KNeighborsClassifier(n_neighbors=1, \n",
    "                           n_jobs=1)\n",
    "knn.fit(X_train, y_train)"
   ]
  },
  {
   "cell_type": "code",
   "execution_count": 6,
   "id": "305fc1b1-9f69-44da-a392-5341d484107b",
   "metadata": {
    "execution": {
     "iopub.execute_input": "2022-11-28T03:47:32.104518Z",
     "iopub.status.busy": "2022-11-28T03:47:32.104518Z",
     "iopub.status.idle": "2022-11-28T03:47:32.109514Z",
     "shell.execute_reply": "2022-11-28T03:47:32.109514Z",
     "shell.execute_reply.started": "2022-11-28T03:47:32.104518Z"
    }
   },
   "outputs": [
    {
     "name": "stderr",
     "output_type": "stream",
     "text": [
      "C:\\Users\\Huang\\.conda\\envs\\ADS2022\\lib\\site-packages\\sklearn\\base.py:450: UserWarning: X does not have valid feature names, but KNeighborsClassifier was fitted with feature names\n",
      "  warnings.warn(\n"
     ]
    }
   ],
   "source": [
    "features = np.array([[5, 2.9, 1, 0.2]])\n",
    "prediction = knn.predict(features)"
   ]
  },
  {
   "cell_type": "code",
   "execution_count": 7,
   "id": "3f8ed815-6408-4422-afa9-5762931fa246",
   "metadata": {
    "execution": {
     "iopub.execute_input": "2022-11-28T03:47:41.197236Z",
     "iopub.status.busy": "2022-11-28T03:47:41.197236Z",
     "iopub.status.idle": "2022-11-28T03:47:41.211236Z",
     "shell.execute_reply": "2022-11-28T03:47:41.211236Z",
     "shell.execute_reply.started": "2022-11-28T03:47:41.197236Z"
    }
   },
   "outputs": [
    {
     "data": {
      "text/plain": [
       "array(['Iris-setosa'], dtype=object)"
      ]
     },
     "execution_count": 7,
     "metadata": {},
     "output_type": "execute_result"
    }
   ],
   "source": [
    "prediction"
   ]
  },
  {
   "cell_type": "code",
   "execution_count": null,
   "id": "1acb9d04-b95d-459b-9349-7b83bb18669e",
   "metadata": {},
   "outputs": [],
   "source": []
  }
 ],
 "metadata": {
  "kernelspec": {
   "display_name": "Python 3 (ipykernel)",
   "language": "python",
   "name": "python3"
  },
  "language_info": {
   "codemirror_mode": {
    "name": "ipython",
    "version": 3
   },
   "file_extension": ".py",
   "mimetype": "text/x-python",
   "name": "python",
   "nbconvert_exporter": "python",
   "pygments_lexer": "ipython3",
   "version": "3.10.4"
  }
 },
 "nbformat": 4,
 "nbformat_minor": 5
}
