{
 "cells": [
  {
   "cell_type": "markdown",
   "id": "4f78e0d0-5345-4e02-a026-4affc4c44263",
   "metadata": {},
   "source": [
    "# Stock Price Prediction using Machine Learning\n",
    "https://thecleverprogrammer.com/2020/11/14/stock-price-prediction-using-machine-learning/\n",
    "\n",
    "Prediction the stock market is one of the most important applications of Mahince Learning in finance."
   ]
  },
  {
   "cell_type": "markdown",
   "id": "18b00922-e514-4cfb-aed5-9cd67f7dc3a6",
   "metadata": {},
   "source": [
    "## Stock Price Prediction\n",
    "Predicting the stock market has been the bane and goal of investors since its inception. Every day billions of dollars are traded on the stock exchange, and behind every dollar is an investor hoping to make a profit in one way or another.\n",
    "\n",
    "Entire companies rise and fall daily depending on marge behaviour. If an investor is able to accurately predict market movements, he offers a trantalizing promise of wealth and influence.\n",
    "\n",
    "Today, so many people are making money staying at home trading in the stock market. It is a plus point for you if you use your experience in the stock market and your machine learning skills for the task of stock price prediction."
   ]
  },
  {
   "cell_type": "code",
   "execution_count": 1,
   "id": "bb39dbd6-e261-4f4b-8ee9-383e7a2bc460",
   "metadata": {
    "execution": {
     "iopub.execute_input": "2022-11-03T05:31:47.694083Z",
     "iopub.status.busy": "2022-11-03T05:31:47.693337Z",
     "iopub.status.idle": "2022-11-03T05:31:47.815007Z",
     "shell.execute_reply": "2022-11-03T05:31:47.814280Z",
     "shell.execute_reply.started": "2022-11-03T05:31:47.694004Z"
    }
   },
   "outputs": [],
   "source": [
    "import numpy as np\n",
    "import pandas as pd\n",
    "from sklearn import preprocessing\n",
    "from sklearn.model_selection import train_test_split\n",
    "from sklearn.linear_model import LinearRegression"
   ]
  },
  {
   "cell_type": "markdown",
   "id": "9e0c77e6-be65-4fec-8a4c-c9938532653f",
   "metadata": {},
   "source": [
    "## Data Preparation"
   ]
  },
  {
   "cell_type": "code",
   "execution_count": 2,
   "id": "1ba440c3-a80c-4834-adb9-989e3b639e07",
   "metadata": {
    "execution": {
     "iopub.execute_input": "2022-11-03T05:33:42.767320Z",
     "iopub.status.busy": "2022-11-03T05:33:42.766835Z",
     "iopub.status.idle": "2022-11-03T05:33:42.771894Z",
     "shell.execute_reply": "2022-11-03T05:33:42.771248Z",
     "shell.execute_reply.started": "2022-11-03T05:33:42.767296Z"
    }
   },
   "outputs": [],
   "source": [
    "def prepare_data(df,forecast_col,forecast_out,test_size):\n",
    "    #creating new column called label with the last 5 rows are nan\n",
    "    label = df[forecast_col].shift(-forecast_out) \n",
    "    \n",
    "    #creating the feature array\n",
    "    X = np.array(df[[forecast_col]]) \n",
    "    \n",
    "    #processing the feature array\n",
    "    X = preprocessing.scale(X) \n",
    "    \n",
    "    #creating the column i want to use later in the predicting method\n",
    "    X_lately = X[-forecast_out:] \n",
    "    \n",
    "    # X that will contain the training and testing\n",
    "    X = X[:-forecast_out] \n",
    "    \n",
    "     #dropping na values\n",
    "    label.dropna(inplace=True)\n",
    "    \n",
    "    # assigning Y\n",
    "    y = np.array(label)  \n",
    "    X_train, X_test, Y_train, Y_test = train_test_split(X, y, test_size=test_size, random_state=0) #cross validation\n",
    "\n",
    "    response = [X_train,X_test , Y_train, Y_test , X_lately]\n",
    "    return response"
   ]
  },
  {
   "cell_type": "code",
   "execution_count": 4,
   "id": "e465aa34-ca17-4715-9252-670d958cfebb",
   "metadata": {
    "execution": {
     "iopub.execute_input": "2022-11-03T05:35:59.991460Z",
     "iopub.status.busy": "2022-11-03T05:35:59.991049Z",
     "iopub.status.idle": "2022-11-03T05:36:00.005376Z",
     "shell.execute_reply": "2022-11-03T05:36:00.004648Z",
     "shell.execute_reply.started": "2022-11-03T05:35:59.991442Z"
    },
    "tags": []
   },
   "outputs": [
    {
     "data": {
      "text/html": [
       "<div>\n",
       "<style scoped>\n",
       "    .dataframe tbody tr th:only-of-type {\n",
       "        vertical-align: middle;\n",
       "    }\n",
       "\n",
       "    .dataframe tbody tr th {\n",
       "        vertical-align: top;\n",
       "    }\n",
       "\n",
       "    .dataframe thead th {\n",
       "        text-align: right;\n",
       "    }\n",
       "</style>\n",
       "<table border=\"1\" class=\"dataframe\">\n",
       "  <thead>\n",
       "    <tr style=\"text-align: right;\">\n",
       "      <th></th>\n",
       "      <th>Date</th>\n",
       "      <th>Open</th>\n",
       "      <th>High</th>\n",
       "      <th>Low</th>\n",
       "      <th>Close</th>\n",
       "      <th>Adj Close</th>\n",
       "      <th>Volume</th>\n",
       "    </tr>\n",
       "  </thead>\n",
       "  <tbody>\n",
       "    <tr>\n",
       "      <th>257</th>\n",
       "      <td>2021-01-20</td>\n",
       "      <td>73.192001</td>\n",
       "      <td>73.192299</td>\n",
       "      <td>72.899300</td>\n",
       "      <td>73.191902</td>\n",
       "      <td>73.191902</td>\n",
       "      <td>0</td>\n",
       "    </tr>\n",
       "    <tr>\n",
       "      <th>258</th>\n",
       "      <td>2021-01-21</td>\n",
       "      <td>72.907898</td>\n",
       "      <td>73.045303</td>\n",
       "      <td>72.883003</td>\n",
       "      <td>72.910896</td>\n",
       "      <td>72.910896</td>\n",
       "      <td>0</td>\n",
       "    </tr>\n",
       "    <tr>\n",
       "      <th>259</th>\n",
       "      <td>2021-01-22</td>\n",
       "      <td>72.954903</td>\n",
       "      <td>73.237503</td>\n",
       "      <td>72.929001</td>\n",
       "      <td>72.954903</td>\n",
       "      <td>72.954903</td>\n",
       "      <td>0</td>\n",
       "    </tr>\n",
       "    <tr>\n",
       "      <th>260</th>\n",
       "      <td>2021-01-25</td>\n",
       "      <td>72.995903</td>\n",
       "      <td>73.220001</td>\n",
       "      <td>72.877998</td>\n",
       "      <td>72.995903</td>\n",
       "      <td>72.995903</td>\n",
       "      <td>0</td>\n",
       "    </tr>\n",
       "    <tr>\n",
       "      <th>261</th>\n",
       "      <td>2021-01-26</td>\n",
       "      <td>72.970001</td>\n",
       "      <td>73.222000</td>\n",
       "      <td>72.774498</td>\n",
       "      <td>72.970001</td>\n",
       "      <td>72.970001</td>\n",
       "      <td>0</td>\n",
       "    </tr>\n",
       "  </tbody>\n",
       "</table>\n",
       "</div>"
      ],
      "text/plain": [
       "           Date       Open       High        Low      Close  Adj Close  Volume\n",
       "257  2021-01-20  73.192001  73.192299  72.899300  73.191902  73.191902       0\n",
       "258  2021-01-21  72.907898  73.045303  72.883003  72.910896  72.910896       0\n",
       "259  2021-01-22  72.954903  73.237503  72.929001  72.954903  72.954903       0\n",
       "260  2021-01-25  72.995903  73.220001  72.877998  72.995903  72.995903       0\n",
       "261  2021-01-26  72.970001  73.222000  72.774498  72.970001  72.970001       0"
      ]
     },
     "execution_count": 4,
     "metadata": {},
     "output_type": "execute_result"
    }
   ],
   "source": [
    "df = pd.read_csv(\"price.csv\")\n",
    "df.tail()"
   ]
  },
  {
   "cell_type": "markdown",
   "id": "9838a2cb-66f8-49e4-940f-369b691a0489",
   "metadata": {},
   "source": [
    "## Applying Machine Learning for Stock Price Prediction"
   ]
  },
  {
   "cell_type": "code",
   "execution_count": 5,
   "id": "e9039e9f-a145-4bbd-b9b1-02901ef6d606",
   "metadata": {
    "execution": {
     "iopub.execute_input": "2022-11-03T05:37:14.465486Z",
     "iopub.status.busy": "2022-11-03T05:37:14.465139Z",
     "iopub.status.idle": "2022-11-03T05:37:14.476684Z",
     "shell.execute_reply": "2022-11-03T05:37:14.475734Z",
     "shell.execute_reply.started": "2022-11-03T05:37:14.465469Z"
    }
   },
   "outputs": [
    {
     "ename": "NameError",
     "evalue": "name 'forecast_col' is not defined",
     "output_type": "error",
     "traceback": [
      "\u001b[0;31m---------------------------------------------------------------------------\u001b[0m",
      "\u001b[0;31mNameError\u001b[0m                                 Traceback (most recent call last)",
      "Input \u001b[0;32mIn [5]\u001b[0m, in \u001b[0;36m<cell line: 2>\u001b[0;34m()\u001b[0m\n\u001b[1;32m      1\u001b[0m \u001b[38;5;66;03m#calling the method were the cross validation and data preperation is in\u001b[39;00m\n\u001b[0;32m----> 2\u001b[0m X_train, X_test, Y_train, Y_test , X_lately \u001b[38;5;241m=\u001b[39mprepare_data(df,\u001b[43mforecast_col\u001b[49m,forecast_out,test_size)\n\u001b[1;32m      4\u001b[0m \u001b[38;5;66;03m#initializing linear regression model\u001b[39;00m\n\u001b[1;32m      5\u001b[0m model \u001b[38;5;241m=\u001b[39m LinearRegression() \n",
      "\u001b[0;31mNameError\u001b[0m: name 'forecast_col' is not defined"
     ]
    }
   ],
   "source": [
    "#calling the method were the cross validation and data preperation is in\n",
    "X_train, X_test, Y_train, Y_test , X_lately = prepare_data(df, forecast_col, forecast_out, test_size)\n",
    "\n",
    "#initializing linear regression model\n",
    "model = LinearRegression() \n",
    "\n",
    "#training the linear regression model\n",
    "model.fit(X_train,Y_train) "
   ]
  },
  {
   "cell_type": "code",
   "execution_count": null,
   "id": "c4a7c615-92eb-4e0d-92e2-1c454d392525",
   "metadata": {},
   "outputs": [],
   "source": []
  }
 ],
 "metadata": {
  "kernelspec": {
   "display_name": "Python 3 (ipykernel)",
   "language": "python",
   "name": "python3"
  },
  "language_info": {
   "codemirror_mode": {
    "name": "ipython",
    "version": 3
   },
   "file_extension": ".py",
   "mimetype": "text/x-python",
   "name": "python",
   "nbconvert_exporter": "python",
   "pygments_lexer": "ipython3",
   "version": "3.10.6"
  }
 },
 "nbformat": 4,
 "nbformat_minor": 5
}
