{
 "cells": [
  {
   "cell_type": "markdown",
   "id": "4f78e0d0-5345-4e02-a026-4affc4c44263",
   "metadata": {},
   "source": [
    "# Stock Price Prediction using Machine Learning\n",
    "https://thecleverprogrammer.com/2020/11/14/stock-price-prediction-using-machine-learning/\n",
    "\n",
    "Prediction the stock market is one of the most important applications of Mahince Learning in finance."
   ]
  },
  {
   "cell_type": "markdown",
   "id": "18b00922-e514-4cfb-aed5-9cd67f7dc3a6",
   "metadata": {},
   "source": [
    "## Stock Price Prediction\n",
    "Predicting the stock market has been the bane and goal of investors since its inception. Every day billions of dollars are traded on the stock exchange, and behind every dollar is an investor hoping to make a profit in one way or another.\n",
    "\n",
    "Entire companies rise and fall daily depending on marge behaviour. If an investor is able to accurately predict market movements, he offers a trantalizing promise of wealth and influence.\n",
    "\n",
    "Today, so many people are making money staying at home trading in the stock market. It is a plus point for you if you use your experience in the stock market and your machine learning skills for the task of stock price prediction."
   ]
  },
  {
   "cell_type": "code",
   "execution_count": 1,
   "id": "bb39dbd6-e261-4f4b-8ee9-383e7a2bc460",
   "metadata": {
    "execution": {
     "iopub.execute_input": "2022-11-03T05:31:47.694083Z",
     "iopub.status.busy": "2022-11-03T05:31:47.693337Z",
     "iopub.status.idle": "2022-11-03T05:31:47.815007Z",
     "shell.execute_reply": "2022-11-03T05:31:47.814280Z",
     "shell.execute_reply.started": "2022-11-03T05:31:47.694004Z"
    }
   },
   "outputs": [],
   "source": [
    "import numpy as np\n",
    "import pandas as pd\n",
    "from sklearn import preprocessing\n",
    "from sklearn.model_selection import train_test_split\n",
    "from sklearn.linear_model import LinearRegression"
   ]
  },
  {
   "cell_type": "markdown",
   "id": "9e0c77e6-be65-4fec-8a4c-c9938532653f",
   "metadata": {},
   "source": [
    "## Data Preparation"
   ]
  },
  {
   "cell_type": "code",
   "execution_count": 2,
   "id": "1ba440c3-a80c-4834-adb9-989e3b639e07",
   "metadata": {
    "execution": {
     "iopub.execute_input": "2022-11-03T05:33:42.767320Z",
     "iopub.status.busy": "2022-11-03T05:33:42.766835Z",
     "iopub.status.idle": "2022-11-03T05:33:42.771894Z",
     "shell.execute_reply": "2022-11-03T05:33:42.771248Z",
     "shell.execute_reply.started": "2022-11-03T05:33:42.767296Z"
    }
   },
   "outputs": [],
   "source": [
    "def prepare_data(df,forecast_col,forecast_out,test_size):\n",
    "    #creating new column called label with the last 5 rows are nan\n",
    "    label = df[forecast_col].shift(-forecast_out) \n",
    "    \n",
    "    #creating the feature array\n",
    "    X = np.array(df[[forecast_col]]) \n",
    "    \n",
    "    #processing the feature array\n",
    "    X = preprocessing.scale(X) \n",
    "    \n",
    "    #creating the column i want to use later in the predicting method\n",
    "    X_lately = X[-forecast_out:] \n",
    "    \n",
    "    # X that will contain the training and testing\n",
    "    X = X[:-forecast_out] \n",
    "    \n",
    "     #dropping na values\n",
    "    label.dropna(inplace=True)\n",
    "    \n",
    "    # assigning Y\n",
    "    y = np.array(label)  \n",
    "    X_train, X_test, Y_train, Y_test = train_test_split(X, y, test_size=test_size, random_state=0) #cross validation\n",
    "\n",
    "    response = [X_train,X_test , Y_train, Y_test , X_lately]\n",
    "    return response"
   ]
  },
  {
   "cell_type": "code",
   "execution_count": 4,
   "id": "e465aa34-ca17-4715-9252-670d958cfebb",
   "metadata": {
    "execution": {
     "iopub.execute_input": "2022-11-03T05:35:59.991460Z",
     "iopub.status.busy": "2022-11-03T05:35:59.991049Z",
     "iopub.status.idle": "2022-11-03T05:36:00.005376Z",
     "shell.execute_reply": "2022-11-03T05:36:00.004648Z",
     "shell.execute_reply.started": "2022-11-03T05:35:59.991442Z"
    },
    "tags": []
   },
   "outputs": [
    {
     "data": {
      "text/html": [
       "<div>\n",
       "<style scoped>\n",
       "    .dataframe tbody tr th:only-of-type {\n",
       "        vertical-align: middle;\n",
       "    }\n",
       "\n",
       "    .dataframe tbody tr th {\n",
       "        vertical-align: top;\n",
       "    }\n",
       "\n",
       "    .dataframe thead th {\n",
       "        text-align: right;\n",
       "    }\n",
       "</style>\n",
       "<table border=\"1\" class=\"dataframe\">\n",
       "  <thead>\n",
       "    <tr style=\"text-align: right;\">\n",
       "      <th></th>\n",
       "      <th>Date</th>\n",
       "      <th>Open</th>\n",
       "      <th>High</th>\n",
       "      <th>Low</th>\n",
       "      <th>Close</th>\n",
       "      <th>Adj Close</th>\n",
       "      <th>Volume</th>\n",
       "    </tr>\n",
       "  </thead>\n",
       "  <tbody>\n",
       "    <tr>\n",
       "      <th>257</th>\n",
       "      <td>2021-01-20</td>\n",
       "      <td>73.192001</td>\n",
       "      <td>73.192299</td>\n",
       "      <td>72.899300</td>\n",
       "      <td>73.191902</td>\n",
       "      <td>73.191902</td>\n",
       "      <td>0</td>\n",
       "    </tr>\n",
       "    <tr>\n",
       "      <th>258</th>\n",
       "      <td>2021-01-21</td>\n",
       "      <td>72.907898</td>\n",
       "      <td>73.045303</td>\n",
       "      <td>72.883003</td>\n",
       "      <td>72.910896</td>\n",
       "      <td>72.910896</td>\n",
       "      <td>0</td>\n",
       "    </tr>\n",
       "    <tr>\n",
       "      <th>259</th>\n",
       "      <td>2021-01-22</td>\n",
       "      <td>72.954903</td>\n",
       "      <td>73.237503</td>\n",
       "      <td>72.929001</td>\n",
       "      <td>72.954903</td>\n",
       "      <td>72.954903</td>\n",
       "      <td>0</td>\n",
       "    </tr>\n",
       "    <tr>\n",
       "      <th>260</th>\n",
       "      <td>2021-01-25</td>\n",
       "      <td>72.995903</td>\n",
       "      <td>73.220001</td>\n",
       "      <td>72.877998</td>\n",
       "      <td>72.995903</td>\n",
       "      <td>72.995903</td>\n",
       "      <td>0</td>\n",
       "    </tr>\n",
       "    <tr>\n",
       "      <th>261</th>\n",
       "      <td>2021-01-26</td>\n",
       "      <td>72.970001</td>\n",
       "      <td>73.222000</td>\n",
       "      <td>72.774498</td>\n",
       "      <td>72.970001</td>\n",
       "      <td>72.970001</td>\n",
       "      <td>0</td>\n",
       "    </tr>\n",
       "  </tbody>\n",
       "</table>\n",
       "</div>"
      ],
      "text/plain": [
       "           Date       Open       High        Low      Close  Adj Close  Volume\n",
       "257  2021-01-20  73.192001  73.192299  72.899300  73.191902  73.191902       0\n",
       "258  2021-01-21  72.907898  73.045303  72.883003  72.910896  72.910896       0\n",
       "259  2021-01-22  72.954903  73.237503  72.929001  72.954903  72.954903       0\n",
       "260  2021-01-25  72.995903  73.220001  72.877998  72.995903  72.995903       0\n",
       "261  2021-01-26  72.970001  73.222000  72.774498  72.970001  72.970001       0"
      ]
     },
     "execution_count": 4,
     "metadata": {},
     "output_type": "execute_result"
    }
   ],
   "source": [
    "df = pd.read_csv(\"price.csv\")\n",
    "df.tail()"
   ]
  },
  {
   "cell_type": "markdown",
   "id": "9838a2cb-66f8-49e4-940f-369b691a0489",
   "metadata": {},
   "source": [
    "## Applying Machine Learning for Stock Price Prediction"
   ]
  },
  {
   "cell_type": "code",
   "execution_count": 8,
   "id": "5f738463-2a49-4b27-93fb-b496679029ef",
   "metadata": {
    "execution": {
     "iopub.execute_input": "2022-11-03T05:37:46.681493Z",
     "iopub.status.busy": "2022-11-03T05:37:46.681153Z",
     "iopub.status.idle": "2022-11-03T05:37:46.684583Z",
     "shell.execute_reply": "2022-11-03T05:37:46.684003Z",
     "shell.execute_reply.started": "2022-11-03T05:37:46.681476Z"
    },
    "tags": []
   },
   "outputs": [],
   "source": [
    "forecast_col = 'Close'\n",
    "forecast_out = 5\n",
    "test_size = 0.2"
   ]
  },
  {
   "cell_type": "code",
   "execution_count": 9,
   "id": "e9039e9f-a145-4bbd-b9b1-02901ef6d606",
   "metadata": {
    "execution": {
     "iopub.execute_input": "2022-11-03T05:37:47.304454Z",
     "iopub.status.busy": "2022-11-03T05:37:47.303585Z",
     "iopub.status.idle": "2022-11-03T05:37:47.324618Z",
     "shell.execute_reply": "2022-11-03T05:37:47.323639Z",
     "shell.execute_reply.started": "2022-11-03T05:37:47.304432Z"
    },
    "tags": []
   },
   "outputs": [
    {
     "data": {
      "text/html": [
       "<style>#sk-container-id-1 {color: black;background-color: white;}#sk-container-id-1 pre{padding: 0;}#sk-container-id-1 div.sk-toggleable {background-color: white;}#sk-container-id-1 label.sk-toggleable__label {cursor: pointer;display: block;width: 100%;margin-bottom: 0;padding: 0.3em;box-sizing: border-box;text-align: center;}#sk-container-id-1 label.sk-toggleable__label-arrow:before {content: \"▸\";float: left;margin-right: 0.25em;color: #696969;}#sk-container-id-1 label.sk-toggleable__label-arrow:hover:before {color: black;}#sk-container-id-1 div.sk-estimator:hover label.sk-toggleable__label-arrow:before {color: black;}#sk-container-id-1 div.sk-toggleable__content {max-height: 0;max-width: 0;overflow: hidden;text-align: left;background-color: #f0f8ff;}#sk-container-id-1 div.sk-toggleable__content pre {margin: 0.2em;color: black;border-radius: 0.25em;background-color: #f0f8ff;}#sk-container-id-1 input.sk-toggleable__control:checked~div.sk-toggleable__content {max-height: 200px;max-width: 100%;overflow: auto;}#sk-container-id-1 input.sk-toggleable__control:checked~label.sk-toggleable__label-arrow:before {content: \"▾\";}#sk-container-id-1 div.sk-estimator input.sk-toggleable__control:checked~label.sk-toggleable__label {background-color: #d4ebff;}#sk-container-id-1 div.sk-label input.sk-toggleable__control:checked~label.sk-toggleable__label {background-color: #d4ebff;}#sk-container-id-1 input.sk-hidden--visually {border: 0;clip: rect(1px 1px 1px 1px);clip: rect(1px, 1px, 1px, 1px);height: 1px;margin: -1px;overflow: hidden;padding: 0;position: absolute;width: 1px;}#sk-container-id-1 div.sk-estimator {font-family: monospace;background-color: #f0f8ff;border: 1px dotted black;border-radius: 0.25em;box-sizing: border-box;margin-bottom: 0.5em;}#sk-container-id-1 div.sk-estimator:hover {background-color: #d4ebff;}#sk-container-id-1 div.sk-parallel-item::after {content: \"\";width: 100%;border-bottom: 1px solid gray;flex-grow: 1;}#sk-container-id-1 div.sk-label:hover label.sk-toggleable__label {background-color: #d4ebff;}#sk-container-id-1 div.sk-serial::before {content: \"\";position: absolute;border-left: 1px solid gray;box-sizing: border-box;top: 0;bottom: 0;left: 50%;z-index: 0;}#sk-container-id-1 div.sk-serial {display: flex;flex-direction: column;align-items: center;background-color: white;padding-right: 0.2em;padding-left: 0.2em;position: relative;}#sk-container-id-1 div.sk-item {position: relative;z-index: 1;}#sk-container-id-1 div.sk-parallel {display: flex;align-items: stretch;justify-content: center;background-color: white;position: relative;}#sk-container-id-1 div.sk-item::before, #sk-container-id-1 div.sk-parallel-item::before {content: \"\";position: absolute;border-left: 1px solid gray;box-sizing: border-box;top: 0;bottom: 0;left: 50%;z-index: -1;}#sk-container-id-1 div.sk-parallel-item {display: flex;flex-direction: column;z-index: 1;position: relative;background-color: white;}#sk-container-id-1 div.sk-parallel-item:first-child::after {align-self: flex-end;width: 50%;}#sk-container-id-1 div.sk-parallel-item:last-child::after {align-self: flex-start;width: 50%;}#sk-container-id-1 div.sk-parallel-item:only-child::after {width: 0;}#sk-container-id-1 div.sk-dashed-wrapped {border: 1px dashed gray;margin: 0 0.4em 0.5em 0.4em;box-sizing: border-box;padding-bottom: 0.4em;background-color: white;}#sk-container-id-1 div.sk-label label {font-family: monospace;font-weight: bold;display: inline-block;line-height: 1.2em;}#sk-container-id-1 div.sk-label-container {text-align: center;}#sk-container-id-1 div.sk-container {/* jupyter's `normalize.less` sets `[hidden] { display: none; }` but bootstrap.min.css set `[hidden] { display: none !important; }` so we also need the `!important` here to be able to override the default hidden behavior on the sphinx rendered scikit-learn.org. See: https://github.com/scikit-learn/scikit-learn/issues/21755 */display: inline-block !important;position: relative;}#sk-container-id-1 div.sk-text-repr-fallback {display: none;}</style><div id=\"sk-container-id-1\" class=\"sk-top-container\"><div class=\"sk-text-repr-fallback\"><pre>LinearRegression()</pre><b>In a Jupyter environment, please rerun this cell to show the HTML representation or trust the notebook. <br />On GitHub, the HTML representation is unable to render, please try loading this page with nbviewer.org.</b></div><div class=\"sk-container\" hidden><div class=\"sk-item\"><div class=\"sk-estimator sk-toggleable\"><input class=\"sk-toggleable__control sk-hidden--visually\" id=\"sk-estimator-id-1\" type=\"checkbox\" checked><label for=\"sk-estimator-id-1\" class=\"sk-toggleable__label sk-toggleable__label-arrow\">LinearRegression</label><div class=\"sk-toggleable__content\"><pre>LinearRegression()</pre></div></div></div></div></div>"
      ],
      "text/plain": [
       "LinearRegression()"
      ]
     },
     "execution_count": 9,
     "metadata": {},
     "output_type": "execute_result"
    }
   ],
   "source": [
    "#calling the method were the cross validation and data preperation is in\n",
    "X_train, X_test, Y_train, Y_test , X_lately = prepare_data(df, forecast_col, forecast_out, test_size)\n",
    "\n",
    "#initializing linear regression model\n",
    "model = LinearRegression() \n",
    "\n",
    "#training the linear regression model\n",
    "model.fit(X_train,Y_train) "
   ]
  },
  {
   "cell_type": "code",
   "execution_count": 11,
   "id": "c4a7c615-92eb-4e0d-92e2-1c454d392525",
   "metadata": {
    "execution": {
     "iopub.execute_input": "2022-11-03T05:38:11.944811Z",
     "iopub.status.busy": "2022-11-03T05:38:11.944025Z",
     "iopub.status.idle": "2022-11-03T05:38:11.950129Z",
     "shell.execute_reply": "2022-11-03T05:38:11.949352Z",
     "shell.execute_reply.started": "2022-11-03T05:38:11.944810Z"
    },
    "tags": []
   },
   "outputs": [
    {
     "data": {
      "text/plain": [
       "0.6391451783466716"
      ]
     },
     "execution_count": 11,
     "metadata": {},
     "output_type": "execute_result"
    }
   ],
   "source": [
    "model.score(X_test, Y_test)"
   ]
  },
  {
   "cell_type": "code",
   "execution_count": 12,
   "id": "e69559f8-4104-4d86-a251-3dae873488aa",
   "metadata": {
    "execution": {
     "iopub.execute_input": "2022-11-03T05:38:28.963012Z",
     "iopub.status.busy": "2022-11-03T05:38:28.962250Z",
     "iopub.status.idle": "2022-11-03T05:38:28.967828Z",
     "shell.execute_reply": "2022-11-03T05:38:28.966857Z",
     "shell.execute_reply.started": "2022-11-03T05:38:28.962979Z"
    }
   },
   "outputs": [
    {
     "data": {
      "text/plain": [
       "array([73.37040254, 73.12634778, 73.16456803, 73.20017668, 73.1776807 ])"
      ]
     },
     "execution_count": 12,
     "metadata": {},
     "output_type": "execute_result"
    }
   ],
   "source": [
    "model.predict(X_lately)"
   ]
  },
  {
   "cell_type": "code",
   "execution_count": null,
   "id": "cb9dc9c9-cd6e-451e-b868-3da3844519bd",
   "metadata": {},
   "outputs": [],
   "source": []
  }
 ],
 "metadata": {
  "kernelspec": {
   "display_name": "Python 3 (ipykernel)",
   "language": "python",
   "name": "python3"
  },
  "language_info": {
   "codemirror_mode": {
    "name": "ipython",
    "version": 3
   },
   "file_extension": ".py",
   "mimetype": "text/x-python",
   "name": "python",
   "nbconvert_exporter": "python",
   "pygments_lexer": "ipython3",
   "version": "3.10.6"
  }
 },
 "nbformat": 4,
 "nbformat_minor": 5
}
