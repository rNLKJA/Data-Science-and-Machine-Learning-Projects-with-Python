{
 "cells": [
  {
   "cell_type": "markdown",
   "id": "8271ccbf-5419-49c4-a468-10f31253ca41",
   "metadata": {},
   "source": [
    "# News Classification with Machine Learning\n",
    "\n",
    "https://thecleverprogrammer.com/2021/10/07/news-classification-with-machine-learning/\n",
    "\n",
    "You must have seen the news divided into categories when you go to a news website. Some of the popular categories that you’ll see on almost any news website are tech, entertainment, and sports. If you want to know how to classify news categories using machine learning, this article is for you.\n",
    "\n",
    "## News Classification\n",
    "\n",
    "Every news website classifies the news article before publishing it so that every time visitors visit their website can easily click on the type of news that interests them.\n",
    "\n",
    "Currently, the news articles are classified by hand by the content managers of news websites. But to save time, they can also implement a machine learning model on their websites that read the news headline or the content of the news and classifies the category of the news.\n",
    "\n",
    "## News Classification using Python"
   ]
  },
  {
   "cell_type": "code",
   "execution_count": 5,
   "id": "d15242be-9f83-40fc-b037-39f09ad10219",
   "metadata": {
    "execution": {
     "iopub.execute_input": "2022-11-28T10:54:06.543960Z",
     "iopub.status.busy": "2022-11-28T10:54:06.542959Z",
     "iopub.status.idle": "2022-11-28T10:54:06.585951Z",
     "shell.execute_reply": "2022-11-28T10:54:06.585951Z",
     "shell.execute_reply.started": "2022-11-28T10:54:06.543960Z"
    },
    "tags": []
   },
   "outputs": [],
   "source": [
    "import pandas as pd\n",
    "import numpy as np\n",
    "\n",
    "from sklearn.feature_extraction.text import CountVectorizer\n",
    "from sklearn.model_selection import train_test_split\n",
    "from sklearn.naive_bayes import MultinomialNB"
   ]
  },
  {
   "cell_type": "code",
   "execution_count": 6,
   "id": "ea7cb513-d46b-41f5-a84b-9dd6f5b20a8b",
   "metadata": {
    "execution": {
     "iopub.execute_input": "2022-11-28T10:55:21.490998Z",
     "iopub.status.busy": "2022-11-28T10:55:21.490998Z",
     "iopub.status.idle": "2022-11-28T10:55:26.309990Z",
     "shell.execute_reply": "2022-11-28T10:55:26.309990Z",
     "shell.execute_reply.started": "2022-11-28T10:55:21.490998Z"
    }
   },
   "outputs": [],
   "source": [
    "data = pd.read_csv(\"https://raw.githubusercontent.com/amankharwal/Website-data/master/bbc-news-data.csv\", sep='\\t')"
   ]
  },
  {
   "cell_type": "code",
   "execution_count": 7,
   "id": "cc7bde46-bcbd-46f3-885d-18aae0c8f60b",
   "metadata": {
    "execution": {
     "iopub.execute_input": "2022-11-28T10:55:26.311988Z",
     "iopub.status.busy": "2022-11-28T10:55:26.311988Z",
     "iopub.status.idle": "2022-11-28T10:55:26.341173Z",
     "shell.execute_reply": "2022-11-28T10:55:26.341173Z",
     "shell.execute_reply.started": "2022-11-28T10:55:26.311988Z"
    }
   },
   "outputs": [
    {
     "data": {
      "text/html": [
       "<div>\n",
       "<style scoped>\n",
       "    .dataframe tbody tr th:only-of-type {\n",
       "        vertical-align: middle;\n",
       "    }\n",
       "\n",
       "    .dataframe tbody tr th {\n",
       "        vertical-align: top;\n",
       "    }\n",
       "\n",
       "    .dataframe thead th {\n",
       "        text-align: right;\n",
       "    }\n",
       "</style>\n",
       "<table border=\"1\" class=\"dataframe\">\n",
       "  <thead>\n",
       "    <tr style=\"text-align: right;\">\n",
       "      <th></th>\n",
       "      <th>category</th>\n",
       "      <th>filename</th>\n",
       "      <th>title</th>\n",
       "      <th>content</th>\n",
       "    </tr>\n",
       "  </thead>\n",
       "  <tbody>\n",
       "    <tr>\n",
       "      <th>2220</th>\n",
       "      <td>tech</td>\n",
       "      <td>397.txt</td>\n",
       "      <td>BT program to beat dialler scams</td>\n",
       "      <td>BT is introducing two initiatives to help bea...</td>\n",
       "    </tr>\n",
       "    <tr>\n",
       "      <th>2221</th>\n",
       "      <td>tech</td>\n",
       "      <td>398.txt</td>\n",
       "      <td>Spam e-mails tempt net shoppers</td>\n",
       "      <td>Computer users across the world continue to i...</td>\n",
       "    </tr>\n",
       "    <tr>\n",
       "      <th>2222</th>\n",
       "      <td>tech</td>\n",
       "      <td>399.txt</td>\n",
       "      <td>Be careful how you code</td>\n",
       "      <td>A new European directive could put software w...</td>\n",
       "    </tr>\n",
       "    <tr>\n",
       "      <th>2223</th>\n",
       "      <td>tech</td>\n",
       "      <td>400.txt</td>\n",
       "      <td>US cyber security chief resigns</td>\n",
       "      <td>The man making sure US computer networks are ...</td>\n",
       "    </tr>\n",
       "    <tr>\n",
       "      <th>2224</th>\n",
       "      <td>tech</td>\n",
       "      <td>401.txt</td>\n",
       "      <td>Losing yourself in online gaming</td>\n",
       "      <td>Online role playing games are time-consuming,...</td>\n",
       "    </tr>\n",
       "  </tbody>\n",
       "</table>\n",
       "</div>"
      ],
      "text/plain": [
       "     category filename                             title  \\\n",
       "2220     tech  397.txt  BT program to beat dialler scams   \n",
       "2221     tech  398.txt   Spam e-mails tempt net shoppers   \n",
       "2222     tech  399.txt           Be careful how you code   \n",
       "2223     tech  400.txt   US cyber security chief resigns   \n",
       "2224     tech  401.txt  Losing yourself in online gaming   \n",
       "\n",
       "                                                content  \n",
       "2220   BT is introducing two initiatives to help bea...  \n",
       "2221   Computer users across the world continue to i...  \n",
       "2222   A new European directive could put software w...  \n",
       "2223   The man making sure US computer networks are ...  \n",
       "2224   Online role playing games are time-consuming,...  "
      ]
     },
     "execution_count": 7,
     "metadata": {},
     "output_type": "execute_result"
    }
   ],
   "source": [
    "data.tail()"
   ]
  },
  {
   "cell_type": "code",
   "execution_count": 8,
   "id": "da27b3f8-9fa0-4ac1-ae22-f77d3a66656a",
   "metadata": {
    "execution": {
     "iopub.execute_input": "2022-11-28T10:55:34.832665Z",
     "iopub.status.busy": "2022-11-28T10:55:34.832665Z",
     "iopub.status.idle": "2022-11-28T10:55:34.853666Z",
     "shell.execute_reply": "2022-11-28T10:55:34.853666Z",
     "shell.execute_reply.started": "2022-11-28T10:55:34.832665Z"
    }
   },
   "outputs": [
    {
     "data": {
      "text/plain": [
       "category    0\n",
       "filename    0\n",
       "title       0\n",
       "content     0\n",
       "dtype: int64"
      ]
     },
     "execution_count": 8,
     "metadata": {},
     "output_type": "execute_result"
    }
   ],
   "source": [
    "data.isnull().sum()"
   ]
  },
  {
   "cell_type": "code",
   "execution_count": 9,
   "id": "3770681d-c597-4e81-9feb-99e2d0b83412",
   "metadata": {
    "execution": {
     "iopub.execute_input": "2022-11-28T10:55:48.794439Z",
     "iopub.status.busy": "2022-11-28T10:55:48.793440Z",
     "iopub.status.idle": "2022-11-28T10:55:48.800439Z",
     "shell.execute_reply": "2022-11-28T10:55:48.800439Z",
     "shell.execute_reply.started": "2022-11-28T10:55:48.794439Z"
    }
   },
   "outputs": [
    {
     "data": {
      "text/plain": [
       "sport            511\n",
       "business         510\n",
       "politics         417\n",
       "tech             401\n",
       "entertainment    386\n",
       "Name: category, dtype: int64"
      ]
     },
     "execution_count": 9,
     "metadata": {},
     "output_type": "execute_result"
    }
   ],
   "source": [
    "data.category.value_counts()"
   ]
  },
  {
   "cell_type": "markdown",
   "id": "f7aad5bf-d77c-4166-a309-4cd0d375464a",
   "metadata": {},
   "source": [
    "## News Classification Model"
   ]
  },
  {
   "cell_type": "code",
   "execution_count": 10,
   "id": "ff868fe6-0302-4ecf-ac41-c89a8d79898b",
   "metadata": {
    "execution": {
     "iopub.execute_input": "2022-11-28T10:56:57.049958Z",
     "iopub.status.busy": "2022-11-28T10:56:57.048955Z",
     "iopub.status.idle": "2022-11-28T10:56:57.083055Z",
     "shell.execute_reply": "2022-11-28T10:56:57.083055Z",
     "shell.execute_reply.started": "2022-11-28T10:56:57.049958Z"
    }
   },
   "outputs": [],
   "source": [
    "data = data[['title', 'category']]\n",
    "x = np.array(data.title)\n",
    "y = np.array(data.category)\n",
    "\n",
    "cv = CountVectorizer()\n",
    "X = cv.fit_transform(x)\n",
    "X_train, X_test, y_train, y_test = train_test_split(X, y, test_size=0.33, random_state=42)"
   ]
  },
  {
   "cell_type": "code",
   "execution_count": 12,
   "id": "61e4de43-222c-4528-ad5d-783ab3f29878",
   "metadata": {
    "execution": {
     "iopub.execute_input": "2022-11-28T11:00:24.605985Z",
     "iopub.status.busy": "2022-11-28T11:00:24.605985Z",
     "iopub.status.idle": "2022-11-28T11:00:24.628618Z",
     "shell.execute_reply": "2022-11-28T11:00:24.628618Z",
     "shell.execute_reply.started": "2022-11-28T11:00:24.605985Z"
    },
    "tags": []
   },
   "outputs": [
    {
     "data": {
      "text/html": [
       "<style>#sk-container-id-1 {color: black;background-color: white;}#sk-container-id-1 pre{padding: 0;}#sk-container-id-1 div.sk-toggleable {background-color: white;}#sk-container-id-1 label.sk-toggleable__label {cursor: pointer;display: block;width: 100%;margin-bottom: 0;padding: 0.3em;box-sizing: border-box;text-align: center;}#sk-container-id-1 label.sk-toggleable__label-arrow:before {content: \"▸\";float: left;margin-right: 0.25em;color: #696969;}#sk-container-id-1 label.sk-toggleable__label-arrow:hover:before {color: black;}#sk-container-id-1 div.sk-estimator:hover label.sk-toggleable__label-arrow:before {color: black;}#sk-container-id-1 div.sk-toggleable__content {max-height: 0;max-width: 0;overflow: hidden;text-align: left;background-color: #f0f8ff;}#sk-container-id-1 div.sk-toggleable__content pre {margin: 0.2em;color: black;border-radius: 0.25em;background-color: #f0f8ff;}#sk-container-id-1 input.sk-toggleable__control:checked~div.sk-toggleable__content {max-height: 200px;max-width: 100%;overflow: auto;}#sk-container-id-1 input.sk-toggleable__control:checked~label.sk-toggleable__label-arrow:before {content: \"▾\";}#sk-container-id-1 div.sk-estimator input.sk-toggleable__control:checked~label.sk-toggleable__label {background-color: #d4ebff;}#sk-container-id-1 div.sk-label input.sk-toggleable__control:checked~label.sk-toggleable__label {background-color: #d4ebff;}#sk-container-id-1 input.sk-hidden--visually {border: 0;clip: rect(1px 1px 1px 1px);clip: rect(1px, 1px, 1px, 1px);height: 1px;margin: -1px;overflow: hidden;padding: 0;position: absolute;width: 1px;}#sk-container-id-1 div.sk-estimator {font-family: monospace;background-color: #f0f8ff;border: 1px dotted black;border-radius: 0.25em;box-sizing: border-box;margin-bottom: 0.5em;}#sk-container-id-1 div.sk-estimator:hover {background-color: #d4ebff;}#sk-container-id-1 div.sk-parallel-item::after {content: \"\";width: 100%;border-bottom: 1px solid gray;flex-grow: 1;}#sk-container-id-1 div.sk-label:hover label.sk-toggleable__label {background-color: #d4ebff;}#sk-container-id-1 div.sk-serial::before {content: \"\";position: absolute;border-left: 1px solid gray;box-sizing: border-box;top: 0;bottom: 0;left: 50%;z-index: 0;}#sk-container-id-1 div.sk-serial {display: flex;flex-direction: column;align-items: center;background-color: white;padding-right: 0.2em;padding-left: 0.2em;position: relative;}#sk-container-id-1 div.sk-item {position: relative;z-index: 1;}#sk-container-id-1 div.sk-parallel {display: flex;align-items: stretch;justify-content: center;background-color: white;position: relative;}#sk-container-id-1 div.sk-item::before, #sk-container-id-1 div.sk-parallel-item::before {content: \"\";position: absolute;border-left: 1px solid gray;box-sizing: border-box;top: 0;bottom: 0;left: 50%;z-index: -1;}#sk-container-id-1 div.sk-parallel-item {display: flex;flex-direction: column;z-index: 1;position: relative;background-color: white;}#sk-container-id-1 div.sk-parallel-item:first-child::after {align-self: flex-end;width: 50%;}#sk-container-id-1 div.sk-parallel-item:last-child::after {align-self: flex-start;width: 50%;}#sk-container-id-1 div.sk-parallel-item:only-child::after {width: 0;}#sk-container-id-1 div.sk-dashed-wrapped {border: 1px dashed gray;margin: 0 0.4em 0.5em 0.4em;box-sizing: border-box;padding-bottom: 0.4em;background-color: white;}#sk-container-id-1 div.sk-label label {font-family: monospace;font-weight: bold;display: inline-block;line-height: 1.2em;}#sk-container-id-1 div.sk-label-container {text-align: center;}#sk-container-id-1 div.sk-container {/* jupyter's `normalize.less` sets `[hidden] { display: none; }` but bootstrap.min.css set `[hidden] { display: none !important; }` so we also need the `!important` here to be able to override the default hidden behavior on the sphinx rendered scikit-learn.org. See: https://github.com/scikit-learn/scikit-learn/issues/21755 */display: inline-block !important;position: relative;}#sk-container-id-1 div.sk-text-repr-fallback {display: none;}</style><div id=\"sk-container-id-1\" class=\"sk-top-container\"><div class=\"sk-text-repr-fallback\"><pre>MultinomialNB()</pre><b>In a Jupyter environment, please rerun this cell to show the HTML representation or trust the notebook. <br />On GitHub, the HTML representation is unable to render, please try loading this page with nbviewer.org.</b></div><div class=\"sk-container\" hidden><div class=\"sk-item\"><div class=\"sk-estimator sk-toggleable\"><input class=\"sk-toggleable__control sk-hidden--visually\" id=\"sk-estimator-id-1\" type=\"checkbox\" checked><label for=\"sk-estimator-id-1\" class=\"sk-toggleable__label sk-toggleable__label-arrow\">MultinomialNB</label><div class=\"sk-toggleable__content\"><pre>MultinomialNB()</pre></div></div></div></div></div>"
      ],
      "text/plain": [
       "MultinomialNB()"
      ]
     },
     "execution_count": 12,
     "metadata": {},
     "output_type": "execute_result"
    }
   ],
   "source": [
    "model = MultinomialNB()\n",
    "model.fit(X_train, y_train)"
   ]
  },
  {
   "cell_type": "code",
   "execution_count": 13,
   "id": "7a10ec1d-a455-4a3e-8c52-47f88baabf0a",
   "metadata": {
    "execution": {
     "iopub.execute_input": "2022-11-28T11:00:30.439966Z",
     "iopub.status.busy": "2022-11-28T11:00:30.439966Z",
     "iopub.status.idle": "2022-11-28T11:00:37.703671Z",
     "shell.execute_reply": "2022-11-28T11:00:37.703671Z",
     "shell.execute_reply.started": "2022-11-28T11:00:30.439966Z"
    },
    "tags": []
   },
   "outputs": [
    {
     "name": "stdin",
     "output_type": "stream",
     "text": [
      "Enter a text Latest Apple iPhone SE 3 concept renders show a compact smartphone in the style of the iPhone 4\n"
     ]
    }
   ],
   "source": [
    "user = input(\"Enter a text\")"
   ]
  },
  {
   "cell_type": "code",
   "execution_count": 14,
   "id": "f2f60cb2-ab97-49ec-8e88-0ea1c6947588",
   "metadata": {
    "execution": {
     "iopub.execute_input": "2022-11-28T11:01:05.800706Z",
     "iopub.status.busy": "2022-11-28T11:01:05.799705Z",
     "iopub.status.idle": "2022-11-28T11:01:05.812703Z",
     "shell.execute_reply": "2022-11-28T11:01:05.812703Z",
     "shell.execute_reply.started": "2022-11-28T11:01:05.800706Z"
    }
   },
   "outputs": [],
   "source": [
    "data = cv.transform([user]).toarray()\n",
    "output = model.predict(data)"
   ]
  },
  {
   "cell_type": "code",
   "execution_count": 15,
   "id": "2d028407-550e-4335-9438-e5221bade73c",
   "metadata": {
    "execution": {
     "iopub.execute_input": "2022-11-28T11:01:07.083955Z",
     "iopub.status.busy": "2022-11-28T11:01:07.083955Z",
     "iopub.status.idle": "2022-11-28T11:01:07.096987Z",
     "shell.execute_reply": "2022-11-28T11:01:07.096987Z",
     "shell.execute_reply.started": "2022-11-28T11:01:07.083955Z"
    }
   },
   "outputs": [
    {
     "data": {
      "text/plain": [
       "array(['tech'], dtype='<U13')"
      ]
     },
     "execution_count": 15,
     "metadata": {},
     "output_type": "execute_result"
    }
   ],
   "source": [
    "output"
   ]
  },
  {
   "cell_type": "code",
   "execution_count": null,
   "id": "87f263fa-2af5-4295-9619-0b33729811f9",
   "metadata": {},
   "outputs": [],
   "source": []
  }
 ],
 "metadata": {
  "kernelspec": {
   "display_name": "Python 3 (ipykernel)",
   "language": "python",
   "name": "python3"
  },
  "language_info": {
   "codemirror_mode": {
    "name": "ipython",
    "version": 3
   },
   "file_extension": ".py",
   "mimetype": "text/x-python",
   "name": "python",
   "nbconvert_exporter": "python",
   "pygments_lexer": "ipython3",
   "version": "3.10.4"
  }
 },
 "nbformat": 4,
 "nbformat_minor": 5
}
