{
 "cells": [
  {
   "cell_type": "markdown",
   "id": "a7c0e0e7-ce0a-414a-8389-865701db5daf",
   "metadata": {
    "tags": []
   },
   "source": [
    "# Add Labels to a Dataset for Sentiment Analysis\n",
    "\n",
    "https://thecleverprogrammer.com/2021/11/24/add-labels-to-a-dataset-for-sentiment-analysis/\n",
    "\n",
    "A data scientist has to spend a lot of time preparing a dataset for any data science task because the data we get has a lot of errors, and sometimes it is not labeled. Adding labels to a dataset is very important before you can use it to solve a problem. One of those problems where adding labels to a dataset is very important is sentiment analysis, where you get the data as reviews or commments from users, and you need to add labels to it to prepare it for sentiment analysis. \n",
    "\n",
    "## Add labels to a dataset for sentiment analysis\n",
    "\n",
    "To add labels to unlabeled data for sentiment analysis, we can use the Vader sentiment model which is one of the best approaches for sentiment analysis. We can access it using the NLTK library in Python. Let’s import the necessary Python libraries and an unlabeled dataset that we need for the task of adding labels to a data for sentiment analysis:"
   ]
  },
  {
   "cell_type": "code",
   "execution_count": 1,
   "id": "204cd704-d032-4cbd-a480-32408a4a6d96",
   "metadata": {
    "execution": {
     "iopub.execute_input": "2022-11-28T07:46:18.275714Z",
     "iopub.status.busy": "2022-11-28T07:46:18.274711Z",
     "iopub.status.idle": "2022-11-28T07:46:19.074492Z",
     "shell.execute_reply": "2022-11-28T07:46:19.074492Z",
     "shell.execute_reply.started": "2022-11-28T07:46:18.275714Z"
    }
   },
   "outputs": [
    {
     "name": "stderr",
     "output_type": "stream",
     "text": [
      "[nltk_data] Downloading package vader_lexicon to\n",
      "[nltk_data]     C:\\Users\\Huang\\AppData\\Roaming\\nltk_data...\n"
     ]
    },
    {
     "data": {
      "text/plain": [
       "True"
      ]
     },
     "execution_count": 1,
     "metadata": {},
     "output_type": "execute_result"
    }
   ],
   "source": [
    "import nltk\n",
    "from nltk.sentiment.vader import SentimentIntensityAnalyzer\n",
    "nltk.download(\"vader_lexicon\")"
   ]
  },
  {
   "cell_type": "code",
   "execution_count": 2,
   "id": "4acf0fa8-b67a-44c3-8ef7-6e047cd074c3",
   "metadata": {
    "execution": {
     "iopub.execute_input": "2022-11-28T07:46:26.077096Z",
     "iopub.status.busy": "2022-11-28T07:46:26.077096Z",
     "iopub.status.idle": "2022-11-28T07:46:26.453755Z",
     "shell.execute_reply": "2022-11-28T07:46:26.453755Z",
     "shell.execute_reply.started": "2022-11-28T07:46:26.077096Z"
    }
   },
   "outputs": [],
   "source": [
    "import numpy as np\n",
    "import pandas as pd"
   ]
  },
  {
   "cell_type": "code",
   "execution_count": 19,
   "id": "ea22d1ce-0bd3-4d52-9057-eb91deb43e2f",
   "metadata": {
    "execution": {
     "iopub.execute_input": "2022-11-28T07:57:44.172368Z",
     "iopub.status.busy": "2022-11-28T07:57:44.172368Z",
     "iopub.status.idle": "2022-11-28T07:57:48.989494Z",
     "shell.execute_reply": "2022-11-28T07:57:48.989494Z",
     "shell.execute_reply.started": "2022-11-28T07:57:44.172368Z"
    },
    "tags": []
   },
   "outputs": [
    {
     "data": {
      "text/html": [
       "<div>\n",
       "<style scoped>\n",
       "    .dataframe tbody tr th:only-of-type {\n",
       "        vertical-align: middle;\n",
       "    }\n",
       "\n",
       "    .dataframe tbody tr th {\n",
       "        vertical-align: top;\n",
       "    }\n",
       "\n",
       "    .dataframe thead th {\n",
       "        text-align: right;\n",
       "    }\n",
       "</style>\n",
       "<table border=\"1\" class=\"dataframe\">\n",
       "  <thead>\n",
       "    <tr style=\"text-align: right;\">\n",
       "      <th></th>\n",
       "      <th>Review</th>\n",
       "    </tr>\n",
       "  </thead>\n",
       "  <tbody>\n",
       "    <tr>\n",
       "      <th>20486</th>\n",
       "      <td>best kept secret 3rd time staying charm, not 5...</td>\n",
       "    </tr>\n",
       "    <tr>\n",
       "      <th>20487</th>\n",
       "      <td>great location price view hotel great quick pl...</td>\n",
       "    </tr>\n",
       "    <tr>\n",
       "      <th>20488</th>\n",
       "      <td>ok just looks nice modern outside, desk staff ...</td>\n",
       "    </tr>\n",
       "    <tr>\n",
       "      <th>20489</th>\n",
       "      <td>hotel theft ruined vacation hotel opened sept ...</td>\n",
       "    </tr>\n",
       "    <tr>\n",
       "      <th>20490</th>\n",
       "      <td>people talking, ca n't believe excellent ratin...</td>\n",
       "    </tr>\n",
       "  </tbody>\n",
       "</table>\n",
       "</div>"
      ],
      "text/plain": [
       "                                                  Review\n",
       "20486  best kept secret 3rd time staying charm, not 5...\n",
       "20487  great location price view hotel great quick pl...\n",
       "20488  ok just looks nice modern outside, desk staff ...\n",
       "20489  hotel theft ruined vacation hotel opened sept ...\n",
       "20490  people talking, ca n't believe excellent ratin..."
      ]
     },
     "execution_count": 19,
     "metadata": {},
     "output_type": "execute_result"
    }
   ],
   "source": [
    "df = pd.read_csv(\"https://raw.githubusercontent.com/amankharwal/Website-data/master/reviews%20data.csv\")\n",
    "df.tail()"
   ]
  },
  {
   "cell_type": "code",
   "execution_count": 20,
   "id": "7a4dbf01-d612-42a9-bc4c-4708140ca812",
   "metadata": {
    "execution": {
     "iopub.execute_input": "2022-11-28T07:57:48.991494Z",
     "iopub.status.busy": "2022-11-28T07:57:48.991494Z",
     "iopub.status.idle": "2022-11-28T07:57:49.005491Z",
     "shell.execute_reply": "2022-11-28T07:57:49.005491Z",
     "shell.execute_reply.started": "2022-11-28T07:57:48.991494Z"
    },
    "tags": []
   },
   "outputs": [],
   "source": [
    "sentiments = SentimentIntensityAnalyzer()"
   ]
  },
  {
   "cell_type": "code",
   "execution_count": 23,
   "id": "4ba1c861-142b-47db-a05b-bd39578ebac3",
   "metadata": {
    "execution": {
     "iopub.execute_input": "2022-11-28T07:58:42.090629Z",
     "iopub.status.busy": "2022-11-28T07:58:42.090629Z",
     "iopub.status.idle": "2022-11-28T07:59:03.771200Z",
     "shell.execute_reply": "2022-11-28T07:59:03.771200Z",
     "shell.execute_reply.started": "2022-11-28T07:58:42.090629Z"
    },
    "tags": []
   },
   "outputs": [],
   "source": [
    "df['scores'] = df.agg(lambda x: sentiments.polarity_scores(x.Review), axis=1)"
   ]
  },
  {
   "cell_type": "code",
   "execution_count": 24,
   "id": "22ff49fd-2676-400c-95af-5f238a6dbfa6",
   "metadata": {
    "execution": {
     "iopub.execute_input": "2022-11-28T07:59:03.773201Z",
     "iopub.status.busy": "2022-11-28T07:59:03.772203Z",
     "iopub.status.idle": "2022-11-28T07:59:03.787200Z",
     "shell.execute_reply": "2022-11-28T07:59:03.787200Z",
     "shell.execute_reply.started": "2022-11-28T07:59:03.773201Z"
    },
    "tags": []
   },
   "outputs": [
    {
     "data": {
      "text/html": [
       "<div>\n",
       "<style scoped>\n",
       "    .dataframe tbody tr th:only-of-type {\n",
       "        vertical-align: middle;\n",
       "    }\n",
       "\n",
       "    .dataframe tbody tr th {\n",
       "        vertical-align: top;\n",
       "    }\n",
       "\n",
       "    .dataframe thead th {\n",
       "        text-align: right;\n",
       "    }\n",
       "</style>\n",
       "<table border=\"1\" class=\"dataframe\">\n",
       "  <thead>\n",
       "    <tr style=\"text-align: right;\">\n",
       "      <th></th>\n",
       "      <th>Review</th>\n",
       "      <th>scores</th>\n",
       "    </tr>\n",
       "  </thead>\n",
       "  <tbody>\n",
       "    <tr>\n",
       "      <th>20486</th>\n",
       "      <td>best kept secret 3rd time staying charm, not 5...</td>\n",
       "      <td>{'neg': 0.063, 'neu': 0.665, 'pos': 0.272, 'co...</td>\n",
       "    </tr>\n",
       "    <tr>\n",
       "      <th>20487</th>\n",
       "      <td>great location price view hotel great quick pl...</td>\n",
       "      <td>{'neg': 0.0, 'neu': 0.57, 'pos': 0.43, 'compou...</td>\n",
       "    </tr>\n",
       "    <tr>\n",
       "      <th>20488</th>\n",
       "      <td>ok just looks nice modern outside, desk staff ...</td>\n",
       "      <td>{'neg': 0.131, 'neu': 0.724, 'pos': 0.145, 'co...</td>\n",
       "    </tr>\n",
       "    <tr>\n",
       "      <th>20489</th>\n",
       "      <td>hotel theft ruined vacation hotel opened sept ...</td>\n",
       "      <td>{'neg': 0.15, 'neu': 0.671, 'pos': 0.179, 'com...</td>\n",
       "    </tr>\n",
       "    <tr>\n",
       "      <th>20490</th>\n",
       "      <td>people talking, ca n't believe excellent ratin...</td>\n",
       "      <td>{'neg': 0.193, 'neu': 0.668, 'pos': 0.14, 'com...</td>\n",
       "    </tr>\n",
       "  </tbody>\n",
       "</table>\n",
       "</div>"
      ],
      "text/plain": [
       "                                                  Review  \\\n",
       "20486  best kept secret 3rd time staying charm, not 5...   \n",
       "20487  great location price view hotel great quick pl...   \n",
       "20488  ok just looks nice modern outside, desk staff ...   \n",
       "20489  hotel theft ruined vacation hotel opened sept ...   \n",
       "20490  people talking, ca n't believe excellent ratin...   \n",
       "\n",
       "                                                  scores  \n",
       "20486  {'neg': 0.063, 'neu': 0.665, 'pos': 0.272, 'co...  \n",
       "20487  {'neg': 0.0, 'neu': 0.57, 'pos': 0.43, 'compou...  \n",
       "20488  {'neg': 0.131, 'neu': 0.724, 'pos': 0.145, 'co...  \n",
       "20489  {'neg': 0.15, 'neu': 0.671, 'pos': 0.179, 'com...  \n",
       "20490  {'neg': 0.193, 'neu': 0.668, 'pos': 0.14, 'com...  "
      ]
     },
     "execution_count": 24,
     "metadata": {},
     "output_type": "execute_result"
    }
   ],
   "source": [
    "df.tail()"
   ]
  },
  {
   "cell_type": "code",
   "execution_count": 25,
   "id": "b45fd39f-1ff7-4999-bd44-a57297bfef8e",
   "metadata": {
    "execution": {
     "iopub.execute_input": "2022-11-28T07:59:24.428619Z",
     "iopub.status.busy": "2022-11-28T07:59:24.428619Z",
     "iopub.status.idle": "2022-11-28T07:59:28.430963Z",
     "shell.execute_reply": "2022-11-28T07:59:28.430963Z",
     "shell.execute_reply.started": "2022-11-28T07:59:24.428619Z"
    },
    "tags": []
   },
   "outputs": [],
   "source": [
    "df = pd.concat([df.drop('scores', axis=1), df.agg(lambda x: pd.Series(x.scores), axis=1)], axis=1)"
   ]
  },
  {
   "cell_type": "code",
   "execution_count": 26,
   "id": "5b8bceaf-6e66-4fe6-ac8f-312fa5db4759",
   "metadata": {
    "execution": {
     "iopub.execute_input": "2022-11-28T07:59:28.432964Z",
     "iopub.status.busy": "2022-11-28T07:59:28.431963Z",
     "iopub.status.idle": "2022-11-28T07:59:28.446962Z",
     "shell.execute_reply": "2022-11-28T07:59:28.446962Z",
     "shell.execute_reply.started": "2022-11-28T07:59:28.432964Z"
    }
   },
   "outputs": [
    {
     "data": {
      "text/html": [
       "<div>\n",
       "<style scoped>\n",
       "    .dataframe tbody tr th:only-of-type {\n",
       "        vertical-align: middle;\n",
       "    }\n",
       "\n",
       "    .dataframe tbody tr th {\n",
       "        vertical-align: top;\n",
       "    }\n",
       "\n",
       "    .dataframe thead th {\n",
       "        text-align: right;\n",
       "    }\n",
       "</style>\n",
       "<table border=\"1\" class=\"dataframe\">\n",
       "  <thead>\n",
       "    <tr style=\"text-align: right;\">\n",
       "      <th></th>\n",
       "      <th>Review</th>\n",
       "      <th>neg</th>\n",
       "      <th>neu</th>\n",
       "      <th>pos</th>\n",
       "      <th>compound</th>\n",
       "    </tr>\n",
       "  </thead>\n",
       "  <tbody>\n",
       "    <tr>\n",
       "      <th>20486</th>\n",
       "      <td>best kept secret 3rd time staying charm, not 5...</td>\n",
       "      <td>0.063</td>\n",
       "      <td>0.665</td>\n",
       "      <td>0.272</td>\n",
       "      <td>0.9834</td>\n",
       "    </tr>\n",
       "    <tr>\n",
       "      <th>20487</th>\n",
       "      <td>great location price view hotel great quick pl...</td>\n",
       "      <td>0.000</td>\n",
       "      <td>0.570</td>\n",
       "      <td>0.430</td>\n",
       "      <td>0.9753</td>\n",
       "    </tr>\n",
       "    <tr>\n",
       "      <th>20488</th>\n",
       "      <td>ok just looks nice modern outside, desk staff ...</td>\n",
       "      <td>0.131</td>\n",
       "      <td>0.724</td>\n",
       "      <td>0.145</td>\n",
       "      <td>0.2629</td>\n",
       "    </tr>\n",
       "    <tr>\n",
       "      <th>20489</th>\n",
       "      <td>hotel theft ruined vacation hotel opened sept ...</td>\n",
       "      <td>0.150</td>\n",
       "      <td>0.671</td>\n",
       "      <td>0.179</td>\n",
       "      <td>0.9867</td>\n",
       "    </tr>\n",
       "    <tr>\n",
       "      <th>20490</th>\n",
       "      <td>people talking, ca n't believe excellent ratin...</td>\n",
       "      <td>0.193</td>\n",
       "      <td>0.668</td>\n",
       "      <td>0.140</td>\n",
       "      <td>-0.6071</td>\n",
       "    </tr>\n",
       "  </tbody>\n",
       "</table>\n",
       "</div>"
      ],
      "text/plain": [
       "                                                  Review    neg    neu    pos  \\\n",
       "20486  best kept secret 3rd time staying charm, not 5...  0.063  0.665  0.272   \n",
       "20487  great location price view hotel great quick pl...  0.000  0.570  0.430   \n",
       "20488  ok just looks nice modern outside, desk staff ...  0.131  0.724  0.145   \n",
       "20489  hotel theft ruined vacation hotel opened sept ...  0.150  0.671  0.179   \n",
       "20490  people talking, ca n't believe excellent ratin...  0.193  0.668  0.140   \n",
       "\n",
       "       compound  \n",
       "20486    0.9834  \n",
       "20487    0.9753  \n",
       "20488    0.2629  \n",
       "20489    0.9867  \n",
       "20490   -0.6071  "
      ]
     },
     "execution_count": 26,
     "metadata": {},
     "output_type": "execute_result"
    }
   ],
   "source": [
    "df.tail()"
   ]
  },
  {
   "cell_type": "markdown",
   "id": "0ae708b5-3436-409f-be95-d1d2051e8bed",
   "metadata": {},
   "source": [
    "As you can see in the above output, we have added four new columns containing the sentiment scores of the Review column. Now the next task is to add labels by categorizing these scores. According to the industry standards, if the compound score of sentiment is more than 0.05, then it is categorized as Positive, and if the compound score is less than -0.05, then it is categorized as Negative, otherwise, it’s neutral.\""
   ]
  },
  {
   "cell_type": "code",
   "execution_count": 30,
   "id": "e4fa6f44-285f-4fe0-8a22-c85a433264a5",
   "metadata": {
    "execution": {
     "iopub.execute_input": "2022-11-28T08:01:22.813626Z",
     "iopub.status.busy": "2022-11-28T08:01:22.813626Z",
     "iopub.status.idle": "2022-11-28T08:01:22.836626Z",
     "shell.execute_reply": "2022-11-28T08:01:22.835625Z",
     "shell.execute_reply.started": "2022-11-28T08:01:22.813626Z"
    },
    "tags": []
   },
   "outputs": [],
   "source": [
    "score = df[\"compound\"].values\n",
    "sentiment = []\n",
    "for i in score:\n",
    "    if i >= 0.05 :\n",
    "        sentiment.append('Positive')\n",
    "    elif i <= -0.05 :\n",
    "        sentiment.append('Negative')\n",
    "    else:\n",
    "        sentiment.append('Neutral')\n",
    "df['Sentiment'] = sentiment"
   ]
  },
  {
   "cell_type": "code",
   "execution_count": 31,
   "id": "f337fa4c-3e8c-4e07-a3b7-4e96e115d1b2",
   "metadata": {
    "execution": {
     "iopub.execute_input": "2022-11-28T08:01:25.612606Z",
     "iopub.status.busy": "2022-11-28T08:01:25.611608Z",
     "iopub.status.idle": "2022-11-28T08:01:25.625600Z",
     "shell.execute_reply": "2022-11-28T08:01:25.625600Z",
     "shell.execute_reply.started": "2022-11-28T08:01:25.612606Z"
    }
   },
   "outputs": [
    {
     "data": {
      "text/html": [
       "<div>\n",
       "<style scoped>\n",
       "    .dataframe tbody tr th:only-of-type {\n",
       "        vertical-align: middle;\n",
       "    }\n",
       "\n",
       "    .dataframe tbody tr th {\n",
       "        vertical-align: top;\n",
       "    }\n",
       "\n",
       "    .dataframe thead th {\n",
       "        text-align: right;\n",
       "    }\n",
       "</style>\n",
       "<table border=\"1\" class=\"dataframe\">\n",
       "  <thead>\n",
       "    <tr style=\"text-align: right;\">\n",
       "      <th></th>\n",
       "      <th>Review</th>\n",
       "      <th>neg</th>\n",
       "      <th>neu</th>\n",
       "      <th>pos</th>\n",
       "      <th>compound</th>\n",
       "      <th>Sentiment</th>\n",
       "    </tr>\n",
       "  </thead>\n",
       "  <tbody>\n",
       "    <tr>\n",
       "      <th>0</th>\n",
       "      <td>nice hotel expensive parking got good deal sta...</td>\n",
       "      <td>0.072</td>\n",
       "      <td>0.643</td>\n",
       "      <td>0.285</td>\n",
       "      <td>0.9747</td>\n",
       "      <td>Positive</td>\n",
       "    </tr>\n",
       "    <tr>\n",
       "      <th>1</th>\n",
       "      <td>ok nothing special charge diamond member hilto...</td>\n",
       "      <td>0.110</td>\n",
       "      <td>0.701</td>\n",
       "      <td>0.189</td>\n",
       "      <td>0.9787</td>\n",
       "      <td>Positive</td>\n",
       "    </tr>\n",
       "    <tr>\n",
       "      <th>2</th>\n",
       "      <td>nice rooms not 4* experience hotel monaco seat...</td>\n",
       "      <td>0.081</td>\n",
       "      <td>0.700</td>\n",
       "      <td>0.219</td>\n",
       "      <td>0.9889</td>\n",
       "      <td>Positive</td>\n",
       "    </tr>\n",
       "    <tr>\n",
       "      <th>3</th>\n",
       "      <td>unique, great stay, wonderful time hotel monac...</td>\n",
       "      <td>0.060</td>\n",
       "      <td>0.555</td>\n",
       "      <td>0.385</td>\n",
       "      <td>0.9912</td>\n",
       "      <td>Positive</td>\n",
       "    </tr>\n",
       "    <tr>\n",
       "      <th>4</th>\n",
       "      <td>great stay great stay, went seahawk game aweso...</td>\n",
       "      <td>0.135</td>\n",
       "      <td>0.643</td>\n",
       "      <td>0.221</td>\n",
       "      <td>0.9797</td>\n",
       "      <td>Positive</td>\n",
       "    </tr>\n",
       "  </tbody>\n",
       "</table>\n",
       "</div>"
      ],
      "text/plain": [
       "                                              Review    neg    neu    pos  \\\n",
       "0  nice hotel expensive parking got good deal sta...  0.072  0.643  0.285   \n",
       "1  ok nothing special charge diamond member hilto...  0.110  0.701  0.189   \n",
       "2  nice rooms not 4* experience hotel monaco seat...  0.081  0.700  0.219   \n",
       "3  unique, great stay, wonderful time hotel monac...  0.060  0.555  0.385   \n",
       "4  great stay great stay, went seahawk game aweso...  0.135  0.643  0.221   \n",
       "\n",
       "   compound Sentiment  \n",
       "0    0.9747  Positive  \n",
       "1    0.9787  Positive  \n",
       "2    0.9889  Positive  \n",
       "3    0.9912  Positive  \n",
       "4    0.9797  Positive  "
      ]
     },
     "execution_count": 31,
     "metadata": {},
     "output_type": "execute_result"
    }
   ],
   "source": [
    "df.head()"
   ]
  },
  {
   "cell_type": "code",
   "execution_count": 32,
   "id": "a561f5eb-6b3c-4562-b7cd-eca96d42dc23",
   "metadata": {
    "execution": {
     "iopub.execute_input": "2022-11-28T08:01:49.992509Z",
     "iopub.status.busy": "2022-11-28T08:01:49.991508Z",
     "iopub.status.idle": "2022-11-28T08:01:49.998521Z",
     "shell.execute_reply": "2022-11-28T08:01:49.998521Z",
     "shell.execute_reply.started": "2022-11-28T08:01:49.991508Z"
    }
   },
   "outputs": [
    {
     "data": {
      "text/plain": [
       "Positive    18831\n",
       "Negative     1569\n",
       "Neutral        91\n",
       "Name: Sentiment, dtype: int64"
      ]
     },
     "execution_count": 32,
     "metadata": {},
     "output_type": "execute_result"
    }
   ],
   "source": [
    "df.Sentiment.value_counts()"
   ]
  },
  {
   "cell_type": "markdown",
   "id": "859a3f7e-9a5b-4bf3-8820-9b69b45aa5c9",
   "metadata": {},
   "source": [
    "So now we are ended up with six columns in this dataset which is now labeled. The Review column was the only initial column in the dataset, we added four columns containing the sentiment scores, and at last, we added a new column containing labels according to the sentiment scores. If you only want the text and label columns, you can remove all other columns and save your dataset. To save your new labeled data, you can execute the command mentioned below:"
   ]
  },
  {
   "cell_type": "code",
   "execution_count": 33,
   "id": "083c80da-bc40-4d09-95a2-0ea6e6c045db",
   "metadata": {
    "execution": {
     "iopub.execute_input": "2022-11-28T08:02:30.436648Z",
     "iopub.status.busy": "2022-11-28T08:02:30.436648Z",
     "iopub.status.idle": "2022-11-28T08:02:30.465644Z",
     "shell.execute_reply": "2022-11-28T08:02:30.465644Z",
     "shell.execute_reply.started": "2022-11-28T08:02:30.436648Z"
    }
   },
   "outputs": [
    {
     "name": "stdout",
     "output_type": "stream",
     "text": [
      "<class 'pandas.core.frame.DataFrame'>\n",
      "RangeIndex: 20491 entries, 0 to 20490\n",
      "Data columns (total 6 columns):\n",
      " #   Column     Non-Null Count  Dtype  \n",
      "---  ------     --------------  -----  \n",
      " 0   Review     20491 non-null  object \n",
      " 1   Negative   20491 non-null  float64\n",
      " 2   Neutral    20491 non-null  float64\n",
      " 3   Positive   20491 non-null  float64\n",
      " 4   Compound   20491 non-null  float64\n",
      " 5   Sentiment  20491 non-null  object \n",
      "dtypes: float64(4), object(2)\n",
      "memory usage: 960.6+ KB\n"
     ]
    }
   ],
   "source": [
    "df.columns = [\"Review\", \"Negative\", \"Neutral\", \"Positive\", \"Compound\", \"Sentiment\"]\n",
    "df.info()"
   ]
  },
  {
   "cell_type": "code",
   "execution_count": 34,
   "id": "3b68cfcf-09a2-4a27-a761-d409e48429cb",
   "metadata": {
    "execution": {
     "iopub.execute_input": "2022-11-28T08:02:45.218848Z",
     "iopub.status.busy": "2022-11-28T08:02:45.217846Z",
     "iopub.status.idle": "2022-11-28T08:02:45.544507Z",
     "shell.execute_reply": "2022-11-28T08:02:45.544507Z",
     "shell.execute_reply.started": "2022-11-28T08:02:45.218848Z"
    }
   },
   "outputs": [],
   "source": [
    "df.to_csv(\"new_data.csv\", index=False)"
   ]
  },
  {
   "cell_type": "code",
   "execution_count": null,
   "id": "da7f06f3-6804-48c5-b9aa-34eddd73729b",
   "metadata": {},
   "outputs": [],
   "source": []
  }
 ],
 "metadata": {
  "kernelspec": {
   "display_name": "Python 3 (ipykernel)",
   "language": "python",
   "name": "python3"
  },
  "language_info": {
   "codemirror_mode": {
    "name": "ipython",
    "version": 3
   },
   "file_extension": ".py",
   "mimetype": "text/x-python",
   "name": "python",
   "nbconvert_exporter": "python",
   "pygments_lexer": "ipython3",
   "version": "3.10.4"
  }
 },
 "nbformat": 4,
 "nbformat_minor": 5
}
