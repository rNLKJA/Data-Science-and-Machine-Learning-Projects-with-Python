{
 "cells": [
  {
   "cell_type": "markdown",
   "id": "b936b781-0268-4fd9-b215-59eab832a8f7",
   "metadata": {},
   "source": [
    "# Comparison of Classification Algorithms in Machine Learning\n",
    "\n",
    "https://thecleverprogrammer.com/2021/10/02/comparison-of-classification-algorithms-in-machine-learning/\n",
    "\n",
    "There are many real-life use cases to create your unique machine learning projects. If you’re still struggling to work on an actual use case, find something practical and unique, like a machine learning project where you’ll show a comparison of some of the classification algorithms in machine learning.\n",
    "\n",
    "## Comparison of Classification Algorithms\n",
    "\n",
    "In machine learning, classification means training a model to specify which category an entry belongs to. There are so many classification algorithms in machine learning, so if you can show a detailed comparison of classification algorithms in machine learning, it will become an amazing and unique machine learning project as a beginner. For this task, you must first choose a classification-based problem statement and determine all those classification algorithms that may be useful for your problem. Next, you need to train classification models and show a comparison based on their performance.\n",
    "\n",
    "The performance of all classification algorithms will depend on the problem you are working on. So let’s start this task by importing the necessary Python libraries, a dataset based on the problem of classification, and some of the popular classification algorithms:"
   ]
  },
  {
   "cell_type": "code",
   "execution_count": 6,
   "id": "2f4ffa23-69f6-4249-9a0c-d06ce61c2b6d",
   "metadata": {
    "execution": {
     "iopub.execute_input": "2022-11-28T11:57:18.165391Z",
     "iopub.status.busy": "2022-11-28T11:57:18.165391Z",
     "iopub.status.idle": "2022-11-28T11:57:18.173392Z",
     "shell.execute_reply": "2022-11-28T11:57:18.173392Z",
     "shell.execute_reply.started": "2022-11-28T11:57:18.165391Z"
    },
    "tags": []
   },
   "outputs": [],
   "source": [
    "import numpy\n",
    "import pandas as pd\n",
    "import numpy as np\n",
    "from sklearn.model_selection import train_test_split\n",
    "from sklearn.tree import DecisionTreeClassifier\n",
    "from sklearn.linear_model import LogisticRegression\n",
    "from sklearn.naive_bayes import BernoulliNB\n",
    "from sklearn.neighbors import KNeighborsClassifier\n",
    "from sklearn.linear_model import PassiveAggressiveClassifier\n",
    "from sklearn.metrics import classification_report\n",
    "from sklearn.svm import SVC"
   ]
  },
  {
   "cell_type": "code",
   "execution_count": 2,
   "id": "a33b371e-64f9-4fa5-8b98-3997d2de409c",
   "metadata": {
    "execution": {
     "iopub.execute_input": "2022-11-28T11:55:16.191820Z",
     "iopub.status.busy": "2022-11-28T11:55:16.190825Z",
     "iopub.status.idle": "2022-11-28T11:55:16.640914Z",
     "shell.execute_reply": "2022-11-28T11:55:16.640914Z",
     "shell.execute_reply.started": "2022-11-28T11:55:16.191820Z"
    }
   },
   "outputs": [],
   "source": [
    "data = pd.read_csv(\"https://raw.githubusercontent.com/amankharwal/Website-data/master/social.csv\")"
   ]
  },
  {
   "cell_type": "code",
   "execution_count": 3,
   "id": "2de6ce27-c163-461d-994d-07ac7e1f904f",
   "metadata": {
    "execution": {
     "iopub.execute_input": "2022-11-28T11:55:20.082517Z",
     "iopub.status.busy": "2022-11-28T11:55:20.082517Z",
     "iopub.status.idle": "2022-11-28T11:55:20.108053Z",
     "shell.execute_reply": "2022-11-28T11:55:20.107053Z",
     "shell.execute_reply.started": "2022-11-28T11:55:20.082517Z"
    }
   },
   "outputs": [
    {
     "data": {
      "text/html": [
       "<div>\n",
       "<style scoped>\n",
       "    .dataframe tbody tr th:only-of-type {\n",
       "        vertical-align: middle;\n",
       "    }\n",
       "\n",
       "    .dataframe tbody tr th {\n",
       "        vertical-align: top;\n",
       "    }\n",
       "\n",
       "    .dataframe thead th {\n",
       "        text-align: right;\n",
       "    }\n",
       "</style>\n",
       "<table border=\"1\" class=\"dataframe\">\n",
       "  <thead>\n",
       "    <tr style=\"text-align: right;\">\n",
       "      <th></th>\n",
       "      <th>Age</th>\n",
       "      <th>EstimatedSalary</th>\n",
       "      <th>Purchased</th>\n",
       "    </tr>\n",
       "  </thead>\n",
       "  <tbody>\n",
       "    <tr>\n",
       "      <th>395</th>\n",
       "      <td>46</td>\n",
       "      <td>41000</td>\n",
       "      <td>1</td>\n",
       "    </tr>\n",
       "    <tr>\n",
       "      <th>396</th>\n",
       "      <td>51</td>\n",
       "      <td>23000</td>\n",
       "      <td>1</td>\n",
       "    </tr>\n",
       "    <tr>\n",
       "      <th>397</th>\n",
       "      <td>50</td>\n",
       "      <td>20000</td>\n",
       "      <td>1</td>\n",
       "    </tr>\n",
       "    <tr>\n",
       "      <th>398</th>\n",
       "      <td>36</td>\n",
       "      <td>33000</td>\n",
       "      <td>0</td>\n",
       "    </tr>\n",
       "    <tr>\n",
       "      <th>399</th>\n",
       "      <td>49</td>\n",
       "      <td>36000</td>\n",
       "      <td>1</td>\n",
       "    </tr>\n",
       "  </tbody>\n",
       "</table>\n",
       "</div>"
      ],
      "text/plain": [
       "     Age  EstimatedSalary  Purchased\n",
       "395   46            41000          1\n",
       "396   51            23000          1\n",
       "397   50            20000          1\n",
       "398   36            33000          0\n",
       "399   49            36000          1"
      ]
     },
     "execution_count": 3,
     "metadata": {},
     "output_type": "execute_result"
    }
   ],
   "source": [
    "data.tail()"
   ]
  },
  {
   "cell_type": "code",
   "execution_count": 4,
   "id": "08271d92-9a90-4859-aebb-7408a20cd6b3",
   "metadata": {
    "execution": {
     "iopub.execute_input": "2022-11-28T11:55:57.140827Z",
     "iopub.status.busy": "2022-11-28T11:55:57.140827Z",
     "iopub.status.idle": "2022-11-28T11:55:57.153828Z",
     "shell.execute_reply": "2022-11-28T11:55:57.153828Z",
     "shell.execute_reply.started": "2022-11-28T11:55:57.140827Z"
    }
   },
   "outputs": [],
   "source": [
    "X = np.array(data[[\"Age\", \"EstimatedSalary\"]])\n",
    "y = np.array(data[[\"Purchased\"]])\n",
    "\n",
    "X_train, X_test, y_train, y_test = train_test_split(X, y, test_size=0.1, random_state=42)"
   ]
  },
  {
   "cell_type": "code",
   "execution_count": 7,
   "id": "75044f17-1d59-413a-bb6b-f63f09cbe6ad",
   "metadata": {
    "execution": {
     "iopub.execute_input": "2022-11-28T11:57:19.987843Z",
     "iopub.status.busy": "2022-11-28T11:57:19.987843Z",
     "iopub.status.idle": "2022-11-28T11:57:20.030962Z",
     "shell.execute_reply": "2022-11-28T11:57:20.030962Z",
     "shell.execute_reply.started": "2022-11-28T11:57:19.987843Z"
    },
    "tags": []
   },
   "outputs": [
    {
     "name": "stderr",
     "output_type": "stream",
     "text": [
      "C:\\Users\\Huang\\.conda\\envs\\ADS2022\\lib\\site-packages\\sklearn\\neighbors\\_classification.py:207: DataConversionWarning: A column-vector y was passed when a 1d array was expected. Please change the shape of y to (n_samples,), for example using ravel().\n",
      "  return self._fit(X, y)\n",
      "C:\\Users\\Huang\\.conda\\envs\\ADS2022\\lib\\site-packages\\sklearn\\utils\\validation.py:1111: DataConversionWarning: A column-vector y was passed when a 1d array was expected. Please change the shape of y to (n_samples, ), for example using ravel().\n",
      "  y = column_or_1d(y, warn=True)\n",
      "C:\\Users\\Huang\\.conda\\envs\\ADS2022\\lib\\site-packages\\sklearn\\utils\\validation.py:1111: DataConversionWarning: A column-vector y was passed when a 1d array was expected. Please change the shape of y to (n_samples, ), for example using ravel().\n",
      "  y = column_or_1d(y, warn=True)\n"
     ]
    }
   ],
   "source": [
    "decisiontree = DecisionTreeClassifier()\n",
    "logisticregression = LogisticRegression()\n",
    "knearestclassifier = KNeighborsClassifier()\n",
    "svm_classifier = SVC()\n",
    "bernoulli_naiveBayes = BernoulliNB()\n",
    "passiveAggressive = PassiveAggressiveClassifier()\n",
    "\n",
    "knearestclassifier.fit(X_train, y_train)\n",
    "decisiontree.fit(X_train, y_train)\n",
    "logisticregression.fit(X_train, y_train)\n",
    "passiveAggressive.fit(X_train, y_train)\n",
    "\n",
    "data1 = {\"Classification Algorithms\": [\"KNN Classifier\", \"Decision Tree Classifier\", \n",
    "                                       \"Logistic Regression\", \"Passive Aggressive Classifier\"],\n",
    "      \"Score\": [knearestclassifier.score(X, y), decisiontree.score(X, y), \n",
    "                logisticregression.score(X, y), passiveAggressive.score(X,y) ]}"
   ]
  },
  {
   "cell_type": "code",
   "execution_count": 8,
   "id": "2973cb28-0ab2-4f2b-8ded-5e34b61a071b",
   "metadata": {
    "execution": {
     "iopub.execute_input": "2022-11-28T11:57:33.879938Z",
     "iopub.status.busy": "2022-11-28T11:57:33.879938Z",
     "iopub.status.idle": "2022-11-28T11:57:33.893669Z",
     "shell.execute_reply": "2022-11-28T11:57:33.893669Z",
     "shell.execute_reply.started": "2022-11-28T11:57:33.879938Z"
    }
   },
   "outputs": [
    {
     "data": {
      "text/html": [
       "<div>\n",
       "<style scoped>\n",
       "    .dataframe tbody tr th:only-of-type {\n",
       "        vertical-align: middle;\n",
       "    }\n",
       "\n",
       "    .dataframe tbody tr th {\n",
       "        vertical-align: top;\n",
       "    }\n",
       "\n",
       "    .dataframe thead th {\n",
       "        text-align: right;\n",
       "    }\n",
       "</style>\n",
       "<table border=\"1\" class=\"dataframe\">\n",
       "  <thead>\n",
       "    <tr style=\"text-align: right;\">\n",
       "      <th></th>\n",
       "      <th>Classification Algorithms</th>\n",
       "      <th>Score</th>\n",
       "    </tr>\n",
       "  </thead>\n",
       "  <tbody>\n",
       "    <tr>\n",
       "      <th>0</th>\n",
       "      <td>KNN Classifier</td>\n",
       "      <td>0.8750</td>\n",
       "    </tr>\n",
       "    <tr>\n",
       "      <th>1</th>\n",
       "      <td>Decision Tree Classifier</td>\n",
       "      <td>0.9800</td>\n",
       "    </tr>\n",
       "    <tr>\n",
       "      <th>2</th>\n",
       "      <td>Logistic Regression</td>\n",
       "      <td>0.6425</td>\n",
       "    </tr>\n",
       "    <tr>\n",
       "      <th>3</th>\n",
       "      <td>Passive Aggressive Classifier</td>\n",
       "      <td>0.6425</td>\n",
       "    </tr>\n",
       "  </tbody>\n",
       "</table>\n",
       "</div>"
      ],
      "text/plain": [
       "       Classification Algorithms   Score\n",
       "0                 KNN Classifier  0.8750\n",
       "1       Decision Tree Classifier  0.9800\n",
       "2            Logistic Regression  0.6425\n",
       "3  Passive Aggressive Classifier  0.6425"
      ]
     },
     "execution_count": 8,
     "metadata": {},
     "output_type": "execute_result"
    }
   ],
   "source": [
    "score = pd.DataFrame(data1)\n",
    "score"
   ]
  },
  {
   "cell_type": "code",
   "execution_count": null,
   "id": "d3ea7f8f-8137-4d10-a73b-14b2a59f945b",
   "metadata": {},
   "outputs": [],
   "source": []
  }
 ],
 "metadata": {
  "kernelspec": {
   "display_name": "Python 3 (ipykernel)",
   "language": "python",
   "name": "python3"
  },
  "language_info": {
   "codemirror_mode": {
    "name": "ipython",
    "version": 3
   },
   "file_extension": ".py",
   "mimetype": "text/x-python",
   "name": "python",
   "nbconvert_exporter": "python",
   "pygments_lexer": "ipython3",
   "version": "3.10.4"
  }
 },
 "nbformat": 4,
 "nbformat_minor": 5
}
