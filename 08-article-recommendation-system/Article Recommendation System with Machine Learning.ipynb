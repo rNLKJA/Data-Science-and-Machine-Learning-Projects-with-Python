{
 "cells": [
  {
   "cell_type": "markdown",
   "id": "1417e691-a721-44be-b44d-59eac34ba0e0",
   "metadata": {},
   "source": [
    "# Article Recommendation System with Machine Learning\n",
    "https://thecleverprogrammer.com/2021/11/10/article-recommendation-system-with-machine-learning/\n",
    "\n",
    "A recommendation system is one of the applications of data science that is used by almost any application or website today. Many websites today use a recommendation system to recommend articles to their readers. For example, Medium.com and even the website you’re currently reading this article on is also using a recommendation system to recommend articles to its readers.\n",
    "\n",
    "## Article Recommendation System\n",
    "There are many ways to create recommendation systems. To create an articles recommendation system, we need to focus on content rather than user interest. For example, if a user reads an article based on clustering, all recommended articles should also based on clustering. So to recommend articles based on the content:\n",
    "- we need to understand the content of the article\n",
    "- match the content with all other articles\n",
    "- and recommend the most suitable articles for the article that the reader is already reading\n",
    "\n",
    "For this task, we can use the concept of cosine similarity in machine learning. Cosine similarity is a method of buidling recommendation systems based on the content. It is used to find similarities between two different pieces of text documents. So we can use cosine similarity to build an article recommendation system. \n",
    "\n",
    "## Article Recommendation System suing Python"
   ]
  },
  {
   "cell_type": "code",
   "execution_count": 1,
   "id": "ccc3f99e-e364-400f-ab44-f4d17072a388",
   "metadata": {
    "execution": {
     "iopub.execute_input": "2022-11-03T07:54:43.762377Z",
     "iopub.status.busy": "2022-11-03T07:54:43.761937Z",
     "iopub.status.idle": "2022-11-03T07:54:43.767555Z",
     "shell.execute_reply": "2022-11-03T07:54:43.766983Z",
     "shell.execute_reply.started": "2022-11-03T07:54:43.762318Z"
    }
   },
   "outputs": [],
   "source": [
    "dataset_url = \"https://raw.githubusercontent.com/amankharwal/Website-data/master/articles.csv\""
   ]
  },
  {
   "cell_type": "code",
   "execution_count": 3,
   "id": "c09cc408-476a-4553-90d8-060b3e64d4d8",
   "metadata": {
    "execution": {
     "iopub.execute_input": "2022-11-03T07:55:30.019326Z",
     "iopub.status.busy": "2022-11-03T07:55:30.018991Z",
     "iopub.status.idle": "2022-11-03T07:55:30.022484Z",
     "shell.execute_reply": "2022-11-03T07:55:30.021881Z",
     "shell.execute_reply.started": "2022-11-03T07:55:30.019307Z"
    },
    "tags": []
   },
   "outputs": [],
   "source": [
    "import pandas as pd\n",
    "import numpy as np\n",
    "from sklearn.feature_extraction import text\n",
    "from sklearn.metrics.pairwise import cosine_similarity"
   ]
  },
  {
   "cell_type": "code",
   "execution_count": 4,
   "id": "f7b34cf0-2c25-42d3-afe0-b8f3c1c9e99a",
   "metadata": {
    "execution": {
     "iopub.execute_input": "2022-11-03T07:55:48.356973Z",
     "iopub.status.busy": "2022-11-03T07:55:48.356600Z",
     "iopub.status.idle": "2022-11-03T07:55:48.933335Z",
     "shell.execute_reply": "2022-11-03T07:55:48.932785Z",
     "shell.execute_reply.started": "2022-11-03T07:55:48.356952Z"
    }
   },
   "outputs": [
    {
     "data": {
      "text/html": [
       "<div>\n",
       "<style scoped>\n",
       "    .dataframe tbody tr th:only-of-type {\n",
       "        vertical-align: middle;\n",
       "    }\n",
       "\n",
       "    .dataframe tbody tr th {\n",
       "        vertical-align: top;\n",
       "    }\n",
       "\n",
       "    .dataframe thead th {\n",
       "        text-align: right;\n",
       "    }\n",
       "</style>\n",
       "<table border=\"1\" class=\"dataframe\">\n",
       "  <thead>\n",
       "    <tr style=\"text-align: right;\">\n",
       "      <th></th>\n",
       "      <th>Article</th>\n",
       "      <th>Title</th>\n",
       "    </tr>\n",
       "  </thead>\n",
       "  <tbody>\n",
       "    <tr>\n",
       "      <th>29</th>\n",
       "      <td>Many machine learning algorithms can be used t...</td>\n",
       "      <td>Applications of Deep Learning</td>\n",
       "    </tr>\n",
       "    <tr>\n",
       "      <th>30</th>\n",
       "      <td>Almost every app or website you visit today sh...</td>\n",
       "      <td>Introduction to Recommendation Systems</td>\n",
       "    </tr>\n",
       "    <tr>\n",
       "      <th>31</th>\n",
       "      <td>There are so many algorithms in machine learni...</td>\n",
       "      <td>Use Cases of Different Machine Learning Algori...</td>\n",
       "    </tr>\n",
       "    <tr>\n",
       "      <th>32</th>\n",
       "      <td>In machine learning, the Naive Bayes algorithm...</td>\n",
       "      <td>Naive Bayes Algorithm in Machine Learning</td>\n",
       "    </tr>\n",
       "    <tr>\n",
       "      <th>33</th>\n",
       "      <td>Swapping elements of a Python list is very sim...</td>\n",
       "      <td>Swap Items of a Python List</td>\n",
       "    </tr>\n",
       "  </tbody>\n",
       "</table>\n",
       "</div>"
      ],
      "text/plain": [
       "                                              Article  \\\n",
       "29  Many machine learning algorithms can be used t...   \n",
       "30  Almost every app or website you visit today sh...   \n",
       "31  There are so many algorithms in machine learni...   \n",
       "32  In machine learning, the Naive Bayes algorithm...   \n",
       "33  Swapping elements of a Python list is very sim...   \n",
       "\n",
       "                                                Title  \n",
       "29                      Applications of Deep Learning  \n",
       "30             Introduction to Recommendation Systems  \n",
       "31  Use Cases of Different Machine Learning Algori...  \n",
       "32          Naive Bayes Algorithm in Machine Learning  \n",
       "33                        Swap Items of a Python List  "
      ]
     },
     "execution_count": 4,
     "metadata": {},
     "output_type": "execute_result"
    }
   ],
   "source": [
    "data = pd.read_csv(dataset_url, encoding=\"latin1\")\n",
    "data.tail()"
   ]
  },
  {
   "cell_type": "code",
   "execution_count": 7,
   "id": "09b1da9a-29eb-43f1-a99e-0e525e236907",
   "metadata": {
    "execution": {
     "iopub.execute_input": "2022-11-03T07:56:23.566783Z",
     "iopub.status.busy": "2022-11-03T07:56:23.566275Z",
     "iopub.status.idle": "2022-11-03T07:56:23.571091Z",
     "shell.execute_reply": "2022-11-03T07:56:23.570479Z",
     "shell.execute_reply.started": "2022-11-03T07:56:23.566764Z"
    },
    "tags": []
   },
   "outputs": [
    {
     "data": {
      "text/plain": [
       "('Data analysis is the process of inspecting and exploring data generated by a particular population to find the information needed to make decisions and draw conclusions. With the use of data in decision making, most businesses today need data analysts. So, if you want to know about the best books to learn data analysis, this article is for you. In this article, I will introduce you to some of the best books to learn data analysis.',\n",
       " 'Best Books to Learn Data Analysis')"
      ]
     },
     "execution_count": 7,
     "metadata": {},
     "output_type": "execute_result"
    }
   ],
   "source": [
    "data.loc[0].Article, data.loc[0].Title"
   ]
  },
  {
   "cell_type": "markdown",
   "id": "65538aa9-0730-47cc-878d-e4d866f33a42",
   "metadata": {},
   "source": [
    "This dataset is completely ready to use to create a recommender system, so let’s use the cosine similarity algorithm and write a Python function to recommend articles:"
   ]
  },
  {
   "cell_type": "code",
   "execution_count": 8,
   "id": "8dc3606e-09f0-4c9c-a54d-366a3fc23343",
   "metadata": {
    "execution": {
     "iopub.execute_input": "2022-11-03T07:57:28.190962Z",
     "iopub.status.busy": "2022-11-03T07:57:28.190503Z",
     "iopub.status.idle": "2022-11-03T07:57:28.199991Z",
     "shell.execute_reply": "2022-11-03T07:57:28.199416Z",
     "shell.execute_reply.started": "2022-11-03T07:57:28.190940Z"
    }
   },
   "outputs": [],
   "source": [
    "articles = data.Article.tolist()\n",
    "uni_tfidf = text.TfidfVectorizer(input=articles, stop_words=\"english\")\n",
    "uni_matrix = uni_tfidf.fit_transform(articles)\n",
    "uni_sim = cosine_similarity(uni_matrix)"
   ]
  },
  {
   "cell_type": "code",
   "execution_count": 9,
   "id": "28401940-80d1-4afa-bd21-788fa1d2eb9f",
   "metadata": {
    "execution": {
     "iopub.execute_input": "2022-11-03T07:57:37.605709Z",
     "iopub.status.busy": "2022-11-03T07:57:37.605236Z",
     "iopub.status.idle": "2022-11-03T07:57:37.613972Z",
     "shell.execute_reply": "2022-11-03T07:57:37.613243Z",
     "shell.execute_reply.started": "2022-11-03T07:57:37.605684Z"
    }
   },
   "outputs": [
    {
     "data": {
      "text/plain": [
       "(TfidfVectorizer(input=['Data analysis is the process of inspecting and '\n",
       "                        'exploring data generated by a particular population to '\n",
       "                        'find the information needed to make decisions and draw '\n",
       "                        'conclusions. With the use of data in decision making, '\n",
       "                        'most businesses today need data analysts. So, if you '\n",
       "                        'want to know about the best books to learn data '\n",
       "                        'analysis, this article is for you. In this article, I '\n",
       "                        'will intro...\n",
       "                        'you to some of the best books to learn deep learning.',\n",
       "                        'Many machine learning algorithms can be used to solve '\n",
       "                        'complex problems that require a large amount of data '\n",
       "                        'with a large number of features, but deep learning can '\n",
       "                        'outperform all algorithms. So to understand where we '\n",
       "                        'can use deep learning techniques, in this article, I '\n",
       "                        'will introduce you to the applications of deep '\n",
       "                        'learning.', ...],\n",
       "                 stop_words='english'),\n",
       " <34x407 sparse matrix of type '<class 'numpy.float64'>'\n",
       " \twith 846 stored elements in Compressed Sparse Row format>,\n",
       " array([[1.        , 0.02858003, 0.02014231, ..., 0.12022323, 0.00455773,\n",
       "         0.02511323],\n",
       "        [0.02858003, 1.        , 0.07651482, ..., 0.30365338, 0.27795728,\n",
       "         0.00383369],\n",
       "        [0.02014231, 0.07651482, 1.        , ..., 0.08401534, 0.05252305,\n",
       "         0.03233971],\n",
       "        ...,\n",
       "        [0.12022323, 0.30365338, 0.08401534, ..., 1.        , 0.12620279,\n",
       "         0.04275628],\n",
       "        [0.00455773, 0.27795728, 0.05252305, ..., 0.12620279, 1.        ,\n",
       "         0.02113943],\n",
       "        [0.02511323, 0.00383369, 0.03233971, ..., 0.04275628, 0.02113943,\n",
       "         1.        ]]))"
      ]
     },
     "execution_count": 9,
     "metadata": {},
     "output_type": "execute_result"
    }
   ],
   "source": [
    "uni_tfidf, uni_matrix, uni_sim"
   ]
  },
  {
   "cell_type": "code",
   "execution_count": 10,
   "id": "397cc3bc-4656-40cf-bc4d-99ec4097bb08",
   "metadata": {
    "execution": {
     "iopub.execute_input": "2022-11-03T07:58:41.512677Z",
     "iopub.status.busy": "2022-11-03T07:58:41.512013Z",
     "iopub.status.idle": "2022-11-03T07:58:41.516025Z",
     "shell.execute_reply": "2022-11-03T07:58:41.515354Z",
     "shell.execute_reply.started": "2022-11-03T07:58:41.512652Z"
    }
   },
   "outputs": [],
   "source": [
    "def recommend_articles(x):\n",
    "    return \", \".join(data.Title.loc[x.argsort()[-5:-1]])"
   ]
  },
  {
   "cell_type": "code",
   "execution_count": 11,
   "id": "29faf80f-d5c0-4904-98a2-ec1f5d2bdd43",
   "metadata": {
    "execution": {
     "iopub.execute_input": "2022-11-03T07:59:11.052833Z",
     "iopub.status.busy": "2022-11-03T07:59:11.052365Z",
     "iopub.status.idle": "2022-11-03T07:59:11.070121Z",
     "shell.execute_reply": "2022-11-03T07:59:11.069520Z",
     "shell.execute_reply.started": "2022-11-03T07:59:11.052809Z"
    }
   },
   "outputs": [
    {
     "data": {
      "text/html": [
       "<div>\n",
       "<style scoped>\n",
       "    .dataframe tbody tr th:only-of-type {\n",
       "        vertical-align: middle;\n",
       "    }\n",
       "\n",
       "    .dataframe tbody tr th {\n",
       "        vertical-align: top;\n",
       "    }\n",
       "\n",
       "    .dataframe thead th {\n",
       "        text-align: right;\n",
       "    }\n",
       "</style>\n",
       "<table border=\"1\" class=\"dataframe\">\n",
       "  <thead>\n",
       "    <tr style=\"text-align: right;\">\n",
       "      <th></th>\n",
       "      <th>Article</th>\n",
       "      <th>Title</th>\n",
       "      <th>Recommended Articles</th>\n",
       "    </tr>\n",
       "  </thead>\n",
       "  <tbody>\n",
       "    <tr>\n",
       "      <th>29</th>\n",
       "      <td>Many machine learning algorithms can be used t...</td>\n",
       "      <td>Applications of Deep Learning</td>\n",
       "      <td>Types of Neural Networks, Assumptions of Machi...</td>\n",
       "    </tr>\n",
       "    <tr>\n",
       "      <th>30</th>\n",
       "      <td>Almost every app or website you visit today sh...</td>\n",
       "      <td>Introduction to Recommendation Systems</td>\n",
       "      <td>News Classification with Machine Learning, New...</td>\n",
       "    </tr>\n",
       "    <tr>\n",
       "      <th>31</th>\n",
       "      <td>There are so many algorithms in machine learni...</td>\n",
       "      <td>Use Cases of Different Machine Learning Algori...</td>\n",
       "      <td>Clustering Algorithms in Machine Learning, App...</td>\n",
       "    </tr>\n",
       "    <tr>\n",
       "      <th>32</th>\n",
       "      <td>In machine learning, the Naive Bayes algorithm...</td>\n",
       "      <td>Naive Bayes Algorithm in Machine Learning</td>\n",
       "      <td>BIRCH Clustering in Machine Learning, Mean Shi...</td>\n",
       "    </tr>\n",
       "    <tr>\n",
       "      <th>33</th>\n",
       "      <td>Swapping elements of a Python list is very sim...</td>\n",
       "      <td>Swap Items of a Python List</td>\n",
       "      <td>K-Means Clustering in Machine Learning, Cluste...</td>\n",
       "    </tr>\n",
       "  </tbody>\n",
       "</table>\n",
       "</div>"
      ],
      "text/plain": [
       "                                              Article  \\\n",
       "29  Many machine learning algorithms can be used t...   \n",
       "30  Almost every app or website you visit today sh...   \n",
       "31  There are so many algorithms in machine learni...   \n",
       "32  In machine learning, the Naive Bayes algorithm...   \n",
       "33  Swapping elements of a Python list is very sim...   \n",
       "\n",
       "                                                Title  \\\n",
       "29                      Applications of Deep Learning   \n",
       "30             Introduction to Recommendation Systems   \n",
       "31  Use Cases of Different Machine Learning Algori...   \n",
       "32          Naive Bayes Algorithm in Machine Learning   \n",
       "33                        Swap Items of a Python List   \n",
       "\n",
       "                                 Recommended Articles  \n",
       "29  Types of Neural Networks, Assumptions of Machi...  \n",
       "30  News Classification with Machine Learning, New...  \n",
       "31  Clustering Algorithms in Machine Learning, App...  \n",
       "32  BIRCH Clustering in Machine Learning, Mean Shi...  \n",
       "33  K-Means Clustering in Machine Learning, Cluste...  "
      ]
     },
     "execution_count": 11,
     "metadata": {},
     "output_type": "execute_result"
    }
   ],
   "source": [
    "data[\"Recommended Articles\"] = [recommend_articles(x) for x in uni_sim]\n",
    "data.tail()"
   ]
  },
  {
   "cell_type": "markdown",
   "id": "7f8dc269-9955-4d38-9e54-a221936ebc94",
   "metadata": {},
   "source": [
    "As you can see from the output above, a new column has been added to the dataset that contains the titles of all the recommended articles. Now let’s see all the recommendations for an article:"
   ]
  },
  {
   "cell_type": "code",
   "execution_count": 14,
   "id": "94bb75c0-e97b-436c-b923-9d79346173cc",
   "metadata": {
    "execution": {
     "iopub.execute_input": "2022-11-03T08:00:20.609076Z",
     "iopub.status.busy": "2022-11-03T08:00:20.608633Z",
     "iopub.status.idle": "2022-11-03T08:00:20.613159Z",
     "shell.execute_reply": "2022-11-03T08:00:20.612571Z",
     "shell.execute_reply.started": "2022-11-03T08:00:20.609057Z"
    },
    "tags": []
   },
   "outputs": [
    {
     "data": {
      "text/plain": [
       "'BIRCH Clustering in Machine Learning, Clustering Algorithms in Machine Learning, DBSCAN Clustering in Machine Learning, K-Means Clustering in Machine Learning'"
      ]
     },
     "execution_count": 14,
     "metadata": {},
     "output_type": "execute_result"
    }
   ],
   "source": [
    "data[\"Recommended Articles\"][22]"
   ]
  },
  {
   "cell_type": "markdown",
   "id": "570f6175-a4cb-408d-b5f1-0c4bec638de8",
   "metadata": {},
   "source": [
    "Index 22 contains an article on “agglomerated clustering”, and all the recommended articles are also based on the concepts of clustering, so we can say that this recommender system can also give great results in real-time."
   ]
  },
  {
   "cell_type": "code",
   "execution_count": null,
   "id": "5367ce6d-6228-47c6-aff3-110725099cfc",
   "metadata": {},
   "outputs": [],
   "source": []
  }
 ],
 "metadata": {
  "kernelspec": {
   "display_name": "Python 3 (ipykernel)",
   "language": "python",
   "name": "python3"
  },
  "language_info": {
   "codemirror_mode": {
    "name": "ipython",
    "version": 3
   },
   "file_extension": ".py",
   "mimetype": "text/x-python",
   "name": "python",
   "nbconvert_exporter": "python",
   "pygments_lexer": "ipython3",
   "version": "3.10.6"
  }
 },
 "nbformat": 4,
 "nbformat_minor": 5
}
