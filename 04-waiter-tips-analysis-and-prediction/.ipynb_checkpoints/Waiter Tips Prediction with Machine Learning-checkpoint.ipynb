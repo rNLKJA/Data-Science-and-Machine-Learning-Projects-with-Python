{
 "cells": [
  {
   "cell_type": "markdown",
   "id": "c0a85875-50aa-4211-b06c-c71f47570521",
   "metadata": {},
   "source": [
    "# Waiter Tips Prediction with Machine Learning\n",
    "https://thecleverprogrammer.com/2022/02/01/waiter-tips-prediction-with-machine-learning/\n",
    "\n",
    "Tipping watiers for serving food depends on many factors like the type of restaurant, how many people you are with, how much amount you pay as your bill, etc. Waiter Tips analysis is one of the popular data science case studies where we need to predict the tips given to a waiter for serving the food in a restaurant. \n",
    "\n",
    "## Waiter Tips (Case Study)\n",
    "The food server of a restaurant recorded data"
   ]
  }
 ],
 "metadata": {
  "kernelspec": {
   "display_name": "Python 3 (ipykernel)",
   "language": "python",
   "name": "python3"
  },
  "language_info": {
   "codemirror_mode": {
    "name": "ipython",
    "version": 3
   },
   "file_extension": ".py",
   "mimetype": "text/x-python",
   "name": "python",
   "nbconvert_exporter": "python",
   "pygments_lexer": "ipython3",
   "version": "3.10.6"
  }
 },
 "nbformat": 4,
 "nbformat_minor": 5
}
