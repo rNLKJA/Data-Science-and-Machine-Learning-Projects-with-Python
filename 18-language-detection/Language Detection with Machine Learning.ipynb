{
 "cells": [
  {
   "cell_type": "markdown",
   "id": "48f5cd16-4bc2-448a-bdf9-2829484b0f87",
   "metadata": {},
   "source": [
    "# Language Detection with Machine Learning\n",
    "\n",
    "https://thecleverprogrammer.com/2021/10/30/language-detection-with-machine-learning/\n",
    "\n",
    "Language detection is a natural language processing task where we need to identify the language of a text or document. Using machine learning for language identification was a difficult task a few years ago because there was not a lot of data on languages, but with the availability of data with ease, several powerful machine learning models are already available for language identification.\n",
    "\n",
    "## Language Detection\n",
    "\n",
    "As a human, you can easily detect the languages you know. For example, I can easily identify Hindi and English, but being an Indian, it is also not possible for me to identify all Indian languages. This is where the language identification task can be used. Google Translate is one of the most popular language translators in the world which is used by so many people around the world. It also includes a machine learning model to detect languages that you can use if you don’t know which language you want to translate.\n",
    "\n",
    "![](https://i0.wp.com/thecleverprogrammer.com/wp-content/uploads/2021/10/google-translate.png?resize=768%2C371&ssl=1)\n",
    "\n",
    "The most important part of training a language detection model is data. The more data you have about every language, the more accurate your model will perform in real-time. The dataset that I am using is collected from Kaggle, which contains data about 22 popular languages and contains 1000 sentences in each of the languages, so it will be an appropriate dataset for training a language detection model with machine learning. \n",
    "\n",
    "## Language Detection using Python"
   ]
  },
  {
   "cell_type": "code",
   "execution_count": 1,
   "id": "b80e96c7-df8c-4b49-8cba-b5556e743e8e",
   "metadata": {
    "execution": {
     "iopub.execute_input": "2022-11-28T08:05:33.165332Z",
     "iopub.status.busy": "2022-11-28T08:05:33.165332Z",
     "iopub.status.idle": "2022-11-28T08:05:33.554001Z",
     "shell.execute_reply": "2022-11-28T08:05:33.554001Z",
     "shell.execute_reply.started": "2022-11-28T08:05:33.165332Z"
    }
   },
   "outputs": [],
   "source": [
    "import pandas as pd\n",
    "import numpy as np\n",
    "from sklearn.feature_extraction.text import CountVectorizer\n",
    "from sklearn.model_selection import train_test_split\n",
    "from sklearn.naive_bayes import MultinomialNB"
   ]
  },
  {
   "cell_type": "code",
   "execution_count": 2,
   "id": "0c4c6e6a-538e-452f-bd08-98e973e35abe",
   "metadata": {
    "execution": {
     "iopub.execute_input": "2022-11-28T08:05:56.820531Z",
     "iopub.status.busy": "2022-11-28T08:05:56.820531Z",
     "iopub.status.idle": "2022-11-28T08:06:03.450562Z",
     "shell.execute_reply": "2022-11-28T08:06:03.449559Z",
     "shell.execute_reply.started": "2022-11-28T08:05:56.820531Z"
    }
   },
   "outputs": [],
   "source": [
    "df = pd.read_csv(\"https://raw.githubusercontent.com/amankharwal/Website-data/master/dataset.csv\")"
   ]
  },
  {
   "cell_type": "code",
   "execution_count": 3,
   "id": "f25df731-7449-4e6a-b47d-a82d19766a1f",
   "metadata": {
    "execution": {
     "iopub.execute_input": "2022-11-28T08:06:03.451562Z",
     "iopub.status.busy": "2022-11-28T08:06:03.451562Z",
     "iopub.status.idle": "2022-11-28T08:06:03.465558Z",
     "shell.execute_reply": "2022-11-28T08:06:03.465558Z",
     "shell.execute_reply.started": "2022-11-28T08:06:03.451562Z"
    }
   },
   "outputs": [
    {
     "data": {
      "text/html": [
       "<div>\n",
       "<style scoped>\n",
       "    .dataframe tbody tr th:only-of-type {\n",
       "        vertical-align: middle;\n",
       "    }\n",
       "\n",
       "    .dataframe tbody tr th {\n",
       "        vertical-align: top;\n",
       "    }\n",
       "\n",
       "    .dataframe thead th {\n",
       "        text-align: right;\n",
       "    }\n",
       "</style>\n",
       "<table border=\"1\" class=\"dataframe\">\n",
       "  <thead>\n",
       "    <tr style=\"text-align: right;\">\n",
       "      <th></th>\n",
       "      <th>Text</th>\n",
       "      <th>language</th>\n",
       "    </tr>\n",
       "  </thead>\n",
       "  <tbody>\n",
       "    <tr>\n",
       "      <th>21995</th>\n",
       "      <td>hors du terrain les années  et  sont des année...</td>\n",
       "      <td>French</td>\n",
       "    </tr>\n",
       "    <tr>\n",
       "      <th>21996</th>\n",
       "      <td>ใน พศ  หลักจากที่เสด็จประพาสแหลมมลายู ชวา อินเ...</td>\n",
       "      <td>Thai</td>\n",
       "    </tr>\n",
       "    <tr>\n",
       "      <th>21997</th>\n",
       "      <td>con motivo de la celebración del septuagésimoq...</td>\n",
       "      <td>Spanish</td>\n",
       "    </tr>\n",
       "    <tr>\n",
       "      <th>21998</th>\n",
       "      <td>年月，當時還只有歲的她在美國出道，以mai-k名義推出首張英文《baby i like》，由...</td>\n",
       "      <td>Chinese</td>\n",
       "    </tr>\n",
       "    <tr>\n",
       "      <th>21999</th>\n",
       "      <td>aprilie sonda spațială messenger a nasa și-a ...</td>\n",
       "      <td>Romanian</td>\n",
       "    </tr>\n",
       "  </tbody>\n",
       "</table>\n",
       "</div>"
      ],
      "text/plain": [
       "                                                    Text  language\n",
       "21995  hors du terrain les années  et  sont des année...    French\n",
       "21996  ใน พศ  หลักจากที่เสด็จประพาสแหลมมลายู ชวา อินเ...      Thai\n",
       "21997  con motivo de la celebración del septuagésimoq...   Spanish\n",
       "21998  年月，當時還只有歲的她在美國出道，以mai-k名義推出首張英文《baby i like》，由...   Chinese\n",
       "21999   aprilie sonda spațială messenger a nasa și-a ...  Romanian"
      ]
     },
     "execution_count": 3,
     "metadata": {},
     "output_type": "execute_result"
    }
   ],
   "source": [
    "df.tail()"
   ]
  },
  {
   "cell_type": "code",
   "execution_count": 4,
   "id": "4d034d3b-b466-40aa-9c46-4db237e9ad17",
   "metadata": {
    "execution": {
     "iopub.execute_input": "2022-11-28T08:06:10.219276Z",
     "iopub.status.busy": "2022-11-28T08:06:10.218274Z",
     "iopub.status.idle": "2022-11-28T08:06:10.241278Z",
     "shell.execute_reply": "2022-11-28T08:06:10.240276Z",
     "shell.execute_reply.started": "2022-11-28T08:06:10.219276Z"
    }
   },
   "outputs": [
    {
     "data": {
      "text/plain": [
       "Text        0\n",
       "language    0\n",
       "dtype: int64"
      ]
     },
     "execution_count": 4,
     "metadata": {},
     "output_type": "execute_result"
    }
   ],
   "source": [
    "df.isnull().sum()"
   ]
  },
  {
   "cell_type": "code",
   "execution_count": 6,
   "id": "355822db-9c03-4733-af1e-18ab4c5d5c0e",
   "metadata": {
    "execution": {
     "iopub.execute_input": "2022-11-28T08:06:23.755676Z",
     "iopub.status.busy": "2022-11-28T08:06:23.754677Z",
     "iopub.status.idle": "2022-11-28T08:06:23.766202Z",
     "shell.execute_reply": "2022-11-28T08:06:23.765688Z",
     "shell.execute_reply.started": "2022-11-28T08:06:23.755676Z"
    },
    "tags": []
   },
   "outputs": [
    {
     "data": {
      "text/plain": [
       "Estonian      1000\n",
       "Swedish       1000\n",
       "English       1000\n",
       "Russian       1000\n",
       "Romanian      1000\n",
       "Persian       1000\n",
       "Pushto        1000\n",
       "Spanish       1000\n",
       "Hindi         1000\n",
       "Korean        1000\n",
       "Chinese       1000\n",
       "French        1000\n",
       "Portugese     1000\n",
       "Indonesian    1000\n",
       "Urdu          1000\n",
       "Latin         1000\n",
       "Turkish       1000\n",
       "Japanese      1000\n",
       "Dutch         1000\n",
       "Tamil         1000\n",
       "Thai          1000\n",
       "Arabic        1000\n",
       "Name: language, dtype: int64"
      ]
     },
     "execution_count": 6,
     "metadata": {},
     "output_type": "execute_result"
    }
   ],
   "source": [
    "df.language.value_counts()"
   ]
  },
  {
   "cell_type": "markdown",
   "id": "fc31d4b2-4bdf-442b-bf96-387dd92b60f4",
   "metadata": {},
   "source": [
    "This dataset contains 22 languages with 1000 sentences from each language. This is a very balanced dataset with no missing values, so we can say this dataset is completely ready to be used to train a machine learning model.\n",
    "\n",
    "## Language Detection Model"
   ]
  },
  {
   "cell_type": "code",
   "execution_count": 14,
   "id": "3a799deb-44d2-49fe-8f2f-c5a1f7886b4d",
   "metadata": {
    "execution": {
     "iopub.execute_input": "2022-11-28T08:07:52.238123Z",
     "iopub.status.busy": "2022-11-28T08:07:52.237126Z",
     "iopub.status.idle": "2022-11-28T08:07:52.256124Z",
     "shell.execute_reply": "2022-11-28T08:07:52.256124Z",
     "shell.execute_reply.started": "2022-11-28T08:07:52.238123Z"
    },
    "tags": []
   },
   "outputs": [],
   "source": [
    "X = np.array(df.Text)\n",
    "y = np.array(df.language)"
   ]
  },
  {
   "cell_type": "code",
   "execution_count": 15,
   "id": "6a626b9c-286e-4eda-b6cc-dcfe58c5aec7",
   "metadata": {
    "execution": {
     "iopub.execute_input": "2022-11-28T08:07:52.471370Z",
     "iopub.status.busy": "2022-11-28T08:07:52.471370Z",
     "iopub.status.idle": "2022-11-28T08:07:52.478387Z",
     "shell.execute_reply": "2022-11-28T08:07:52.478387Z",
     "shell.execute_reply.started": "2022-11-28T08:07:52.471370Z"
    },
    "tags": []
   },
   "outputs": [],
   "source": [
    "cv = CountVectorizer()"
   ]
  },
  {
   "cell_type": "code",
   "execution_count": 16,
   "id": "dd56f287-39c8-4a11-bd59-159b784d50f9",
   "metadata": {
    "execution": {
     "iopub.execute_input": "2022-11-28T08:08:21.071622Z",
     "iopub.status.busy": "2022-11-28T08:08:21.071622Z",
     "iopub.status.idle": "2022-11-28T08:08:22.369596Z",
     "shell.execute_reply": "2022-11-28T08:08:22.369596Z",
     "shell.execute_reply.started": "2022-11-28T08:08:21.071622Z"
    },
    "tags": []
   },
   "outputs": [],
   "source": [
    "X = cv.fit_transform(X)\n",
    "X_train, X_test, y_train, y_test = train_test_split(X, y, \n",
    "                                                    test_size=0.2,\n",
    "                                                    random_state=42)"
   ]
  },
  {
   "cell_type": "code",
   "execution_count": 24,
   "id": "eee75d1e-8a7c-4089-b5ba-ab20ee7cb61e",
   "metadata": {
    "execution": {
     "iopub.execute_input": "2022-11-28T08:09:32.682545Z",
     "iopub.status.busy": "2022-11-28T08:09:32.681546Z",
     "iopub.status.idle": "2022-11-28T08:09:32.695725Z",
     "shell.execute_reply": "2022-11-28T08:09:32.694725Z",
     "shell.execute_reply.started": "2022-11-28T08:09:32.682545Z"
    },
    "tags": []
   },
   "outputs": [
    {
     "data": {
      "text/plain": [
       "(1, 277720)"
      ]
     },
     "execution_count": 24,
     "metadata": {},
     "output_type": "execute_result"
    }
   ],
   "source": [
    "X[0].todense().shape"
   ]
  },
  {
   "cell_type": "code",
   "execution_count": 25,
   "id": "b287b963-98c5-4ac7-9401-5b4eb1090627",
   "metadata": {
    "execution": {
     "iopub.execute_input": "2022-11-28T08:09:54.118987Z",
     "iopub.status.busy": "2022-11-28T08:09:54.118987Z",
     "iopub.status.idle": "2022-11-28T08:09:54.337633Z",
     "shell.execute_reply": "2022-11-28T08:09:54.337633Z",
     "shell.execute_reply.started": "2022-11-28T08:09:54.118987Z"
    }
   },
   "outputs": [
    {
     "data": {
      "text/plain": [
       "0.9529545454545455"
      ]
     },
     "execution_count": 25,
     "metadata": {},
     "output_type": "execute_result"
    }
   ],
   "source": [
    "model = MultinomialNB()\n",
    "model.fit(X_train, y_train)\n",
    "model.score(X_test, y_test)"
   ]
  },
  {
   "cell_type": "code",
   "execution_count": 26,
   "id": "388e0b26-71fe-4b28-8f5d-9642d2c4f796",
   "metadata": {
    "execution": {
     "iopub.execute_input": "2022-11-28T08:10:09.568880Z",
     "iopub.status.busy": "2022-11-28T08:10:09.568880Z",
     "iopub.status.idle": "2022-11-28T08:10:11.264646Z",
     "shell.execute_reply": "2022-11-28T08:10:11.264646Z",
     "shell.execute_reply.started": "2022-11-28T08:10:09.568880Z"
    },
    "tags": []
   },
   "outputs": [
    {
     "name": "stdin",
     "output_type": "stream",
     "text": [
      "Enter a Text:  देखकर अच्छा लगता है\n"
     ]
    }
   ],
   "source": [
    "user = input(\"Enter a Text: \")\n",
    "data = cv.transform([user]).toarray()\n",
    "output = model.predict(data)"
   ]
  },
  {
   "cell_type": "code",
   "execution_count": 27,
   "id": "5b7a8471-2a12-4c1e-a65c-a48528cdc50c",
   "metadata": {
    "execution": {
     "iopub.execute_input": "2022-11-28T08:10:29.120565Z",
     "iopub.status.busy": "2022-11-28T08:10:29.119564Z",
     "iopub.status.idle": "2022-11-28T08:10:29.130566Z",
     "shell.execute_reply": "2022-11-28T08:10:29.130566Z",
     "shell.execute_reply.started": "2022-11-28T08:10:29.120565Z"
    }
   },
   "outputs": [
    {
     "data": {
      "text/plain": [
       "array(['Hindi'], dtype='<U10')"
      ]
     },
     "execution_count": 27,
     "metadata": {},
     "output_type": "execute_result"
    }
   ],
   "source": [
    "output"
   ]
  },
  {
   "cell_type": "code",
   "execution_count": null,
   "id": "6e3b9afd-4560-4768-8973-25fb2faf057c",
   "metadata": {},
   "outputs": [],
   "source": []
  }
 ],
 "metadata": {
  "kernelspec": {
   "display_name": "Python 3 (ipykernel)",
   "language": "python",
   "name": "python3"
  },
  "language_info": {
   "codemirror_mode": {
    "name": "ipython",
    "version": 3
   },
   "file_extension": ".py",
   "mimetype": "text/x-python",
   "name": "python",
   "nbconvert_exporter": "python",
   "pygments_lexer": "ipython3",
   "version": "3.10.4"
  }
 },
 "nbformat": 4,
 "nbformat_minor": 5
}
