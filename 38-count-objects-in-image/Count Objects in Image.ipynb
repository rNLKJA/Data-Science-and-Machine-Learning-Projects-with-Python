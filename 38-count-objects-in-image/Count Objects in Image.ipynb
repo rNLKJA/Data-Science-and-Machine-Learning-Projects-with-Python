{
 "cells": [
  {
   "cell_type": "markdown",
   "id": "935a6c82-5436-4c96-a7ed-7b7e1ccfede5",
   "metadata": {},
   "source": [
    "# Count Objects in Image\n",
    "\n",
    "https://thecleverprogrammer.com/2021/05/11/count-objects-in-image-using-python/\n",
    "\n",
    "Counting objects in an image is the task of computer vision. There are a bunch of computer vision libraries in Python that you can use for this task.\n",
    "\n",
    "## How to Count Objects in an Image using Python\n",
    "\n",
    "Counting objects in an image is a task of computer vision. There are many computer vision libraries that you can use for this task, such as OpenCV, TensorFlow, PyTorch, Scikit-image, and cvlib. You must have not heard much about the cvlib library in Python. Well, this is a very simple, high level, and easy to use computer vision library in Python.\n",
    "\n",
    "By using the features of this library we can count the number of objects in an image using Python. To use this library, make sure you have OpenCV and TensorFlow installed in your systems. You can easily install it by using the pip command; pip install cvlib.\n",
    "\n",
    "## Count Objects in an Image using Python\n",
    "\n",
    "Now let’s see how to use the cvlib library to count the number of objects in an image using the Python programming language. I will first read an image by using the OpenCV library, then I will detect all the objects using cvlib and count the number of particular objects. The image that I am going to use for this task is shown below.\n",
    "\n",
    "![](https://i0.wp.com/thecleverprogrammer.com/wp-content/uploads/2021/05/cars.jpeg?resize=768%2C576&ssl=1)\n",
    "\n",
    "As you can see the image that I am using here for the task of counting objects in an image using Python contains vehicles in it. So I will first detect all the vehicles and then count the number of cars out of them. So below is how you can count the number of cars in an image using Python:"
   ]
  },
  {
   "cell_type": "code",
   "execution_count": 2,
   "id": "31527ec5-fb07-4eaa-943b-b82e8b6ea3c9",
   "metadata": {
    "execution": {
     "iopub.execute_input": "2022-11-29T06:13:56.058608Z",
     "iopub.status.busy": "2022-11-29T06:13:56.058608Z",
     "iopub.status.idle": "2022-11-29T06:13:56.451326Z",
     "shell.execute_reply": "2022-11-29T06:13:56.451326Z",
     "shell.execute_reply.started": "2022-11-29T06:13:56.058608Z"
    }
   },
   "outputs": [
    {
     "ename": "ModuleNotFoundError",
     "evalue": "No module named 'cv2'",
     "output_type": "error",
     "traceback": [
      "\u001b[1;31m---------------------------------------------------------------------------\u001b[0m",
      "\u001b[1;31mModuleNotFoundError\u001b[0m                       Traceback (most recent call last)",
      "Input \u001b[1;32mIn [2]\u001b[0m, in \u001b[0;36m<cell line: 1>\u001b[1;34m()\u001b[0m\n\u001b[1;32m----> 1\u001b[0m \u001b[38;5;28;01mimport\u001b[39;00m \u001b[38;5;21;01mcv2\u001b[39;00m\n\u001b[0;32m      2\u001b[0m \u001b[38;5;28;01mimport\u001b[39;00m \u001b[38;5;21;01mnumpy\u001b[39;00m \u001b[38;5;28;01mas\u001b[39;00m \u001b[38;5;21;01mnp\u001b[39;00m\n\u001b[0;32m      3\u001b[0m \u001b[38;5;28;01mimport\u001b[39;00m \u001b[38;5;21;01mmatplotlib\u001b[39;00m\u001b[38;5;21;01m.\u001b[39;00m\u001b[38;5;21;01mpyplot\u001b[39;00m \u001b[38;5;28;01mas\u001b[39;00m \u001b[38;5;21;01mplt\u001b[39;00m\n",
      "\u001b[1;31mModuleNotFoundError\u001b[0m: No module named 'cv2'"
     ]
    }
   ],
   "source": [
    "import cv2\n",
    "import numpy as np\n",
    "import matplotlib.pyplot as plt\n",
    "import cvlib as cv\n",
    "from cvlib.object_detection import draw_bbox\n",
    "from numpy.lib.polynomial import poly\n",
    "\n",
    "image = cv2.imread(\"cars.jpeg\")\n",
    "box, label, count = cv.detect_common_objects(image)\n",
    "output = draw_bbox(image, box, label, count)\n",
    "plt.imshow(output)\n",
    "plt.show()\n",
    "print(\"Number of cars in this image are \" +str(label.count('car')))"
   ]
  },
  {
   "cell_type": "code",
   "execution_count": null,
   "id": "1e2f4444-1411-4962-9ebd-d12233e44446",
   "metadata": {},
   "outputs": [],
   "source": []
  }
 ],
 "metadata": {
  "kernelspec": {
   "display_name": "Python 3 (ipykernel)",
   "language": "python",
   "name": "python3"
  },
  "language_info": {
   "codemirror_mode": {
    "name": "ipython",
    "version": 3
   },
   "file_extension": ".py",
   "mimetype": "text/x-python",
   "name": "python",
   "nbconvert_exporter": "python",
   "pygments_lexer": "ipython3",
   "version": "3.10.4"
  }
 },
 "nbformat": 4,
 "nbformat_minor": 5
}
